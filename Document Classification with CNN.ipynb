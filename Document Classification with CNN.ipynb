{
 "cells": [
  {
   "cell_type": "markdown",
   "metadata": {
    "colab_type": "text",
    "id": "mDMgSstPYv0P"
   },
   "source": [
    "# Text Classification:\n",
    "\n",
    "## Data\n",
    "<pre>\n",
    "1. we have total of 20 types of documents(Text files) and total 18828 documents(text files).\n",
    "2. You can download data from this <a href='https://drive.google.com/open?id=1rxD15nyeIPIAZ-J2VYPrDRZI66-TBWvM'>link</a>, in that you will get documents.rar folder. <br>If you unzip that, you will get total of 18828 documnets. document name is defined as'ClassLabel_DocumentNumberInThatLabel'. \n",
    "so from document name, you can extract the label for that document.\n",
    "4. Now our problem is to classify all the documents into any one of the class.\n",
    "</pre>"
   ]
  },
  {
   "cell_type": "markdown",
   "metadata": {
    "colab_type": "text",
    "id": "VlqYFVI3Yv0k"
   },
   "source": [
    "#### sample document\n",
    "<pre>\n",
    "<font color='blue'>\n",
    "Subject: A word of advice\n",
    "From: jcopelan@nyx.cs.du.edu (The One and Only)\n",
    "\n",
    "In article < 65882@mimsy.umd.edu > mangoe@cs.umd.edu (Charley Wingate) writes:\n",
    ">\n",
    ">I've said 100 times that there is no \"alternative\" that should think you\n",
    ">might have caught on by now.  And there is no \"alternative\", but the point\n",
    ">is, \"rationality\" isn't an alternative either.  The problems of metaphysical\n",
    ">and religious knowledge are unsolvable-- or I should say, humans cannot\n",
    ">solve them.\n",
    "\n",
    "How does that saying go: Those who say it can't be done shouldn't interrupt\n",
    "those who are doing it.\n",
    "\n",
    "Jim\n",
    "--\n",
    "Have you washed your brain today?\n",
    "</font>\n",
    "</pre>"
   ]
  },
  {
   "cell_type": "markdown",
   "metadata": {
    "colab_type": "text",
    "id": "KAR5HoR1Yv0m"
   },
   "source": [
    "### Preprocessing:\n",
    "<pre>\n",
    "useful links: <a href='http://www.pyregex.com/'>http://www.pyregex.com/</a>\n",
    "\n",
    "<font color='blue'><b>1.</b></font> Find all emails in the document and then get the text after the \"@\". and then split those texts by '.' \n",
    "after that remove the words whose length is less than or equal to 2 and also remove'com' word and then combine those words by space. \n",
    "In one doc, if we have 2 or more mails, get all.\n",
    "<b>Eg:[test@dm1.d.com, test2@dm2.dm3.com]-->[dm1.d.com, dm3.dm4.com]-->[dm1,d,com,dm2,dm3,com]-->[dm1,dm2,dm3]-->\"dm1 dm2 dm3\" </b> \n",
    "append all those into one list/array. ( This will give length of 18828 sentences i.e one list for each of the document). \n",
    "Some sample output was shown below. \n",
    "\n",
    "> In the above sample document there are emails [jcopelan@nyx.cs.du.edu, 65882@mimsy.umd.edu, mangoe@cs.umd.edu]\n",
    "\n",
    "preprocessing:\n",
    "[jcopelan@nyx.cs.du.edu, 65882@mimsy.umd.edu, mangoe@cs.umd.edu] ==> [nyx cs du edu mimsy umd edu cs umd edu] ==> \n",
    "[nyx edu mimsy umd edu umd edu]\n",
    "\n",
    "<font color='blue'><b>2.</b></font> Replace all the emails by space in the original text. \n",
    "</pre>"
   ]
  },
  {
   "cell_type": "markdown",
   "metadata": {
    "colab_type": "text",
    "id": "zIovFDQzYv03"
   },
   "source": [
    "<pre>\n",
    "<font color='blue'><b>3.</b></font> Get subject of the text i.e. get the total lines where \"Subject:\" occur and remove \n",
    "the word which are before the \":\" remove the newlines, tabs, punctuations, any special chars.\n",
    "<b>Eg: if we have sentance like \"Subject: Re: Gospel Dating @ \\r\\r\\n\" --> You have to get \"Gospel Dating\"</b> \n",
    "Save all this data into another list/array. \n",
    "\n",
    "<font color='blue'><b>4.</b></font> After you store it in the list, Replace those sentances in original text by space.\n",
    "\n",
    "<font color='blue'><b>5.</b></font> Delete all the sentances where sentence starts with <b>\"Write to:\"</b> or <b>\"From:\"</b>.\n",
    "> In the above sample document check the 2nd line, we should remove that\n",
    "\n",
    "<font color='blue'><b>6.</b></font> Delete all the tags like \"< anyword >\"\n",
    "> In the above sample document check the 4nd line, we should remove that \"< 65882@mimsy.umd.edu >\"\n",
    "\n",
    "\n",
    "<font color='blue'><b>7.</b></font> Delete all the data which are present in the brackets. \n",
    "In many text data, we observed that, they maintained the explanation of sentence \n",
    "or translation of sentence to another language in brackets so remove all those.\n",
    "<b>Eg: \"AAIC-The course that gets you HIRED(AAIC - Der Kurs, der Sie anstellt)\" --> \"AAIC-The course that gets you HIRED\"</b>\n",
    "\n",
    "> In the above sample document check the 4nd line, we should remove that \"(Charley Wingate)\"\n",
    "\n",
    "\n",
    "<font color='blue'><b>8.</b></font> Remove all the newlines('\\n'), tabs('\\t'), \"-\", \"\\\".\n",
    "\n",
    "<font color='blue'><b>9.</b></font> Remove all the words which ends with <b>\":\"</b>.\n",
    "<b>Eg: \"Anyword:\"</b>\n",
    "> In the above sample document check the 4nd line, we should remove that \"writes:\"\n",
    "\n",
    "\n",
    "<font color='blue'><b>10.</b></font> Decontractions, replace words like below to full words. \n",
    "please check the donors choose preprocessing for this \n",
    "<b>Eg: can't -> can not, 's -> is, i've -> i have, i'm -> i am, you're -> you are, i'll --> i will </b>\n",
    "\n",
    "<b> There is no order to do point 6 to 10. but you have to get final output correctly</b>\n",
    "\n",
    "<font color='blue'><b>11.</b></font> Do chunking on the text you have after above preprocessing. \n",
    "Text chunking, also referred to as shallow parsing, is a task that \n",
    "follows Part-Of-Speech Tagging and that adds more structure to the sentence.\n",
    "So it combines the some phrases, named entities into single word.\n",
    "So after that combine all those phrases/named entities by separating <b>\"_\"</b>. \n",
    "And remove the phrases/named entities if that is a \"Person\". \n",
    "You can use <b>nltk.ne_chunk</b> to get these. \n",
    "Below we have given one example. please go through it. \n",
    "\n",
    "useful links: \n",
    "<a href='https://www.nltk.org/book/ch07.html'>https://www.nltk.org/book/ch07.html</a>\n",
    "<a href='https://stackoverflow.com/a/31837224/4084039'>https://stackoverflow.com/a/31837224/4084039</a>\n",
    "<a href='http://www.nltk.org/howto/tree.html'>http://www.nltk.org/howto/tree.html</a>\n",
    "<a href='https://stackoverflow.com/a/44294377/4084039'>https://stackoverflow.com/a/44294377/4084039</a>\n",
    "</pre>"
   ]
  },
  {
   "cell_type": "code",
   "execution_count": 4,
   "metadata": {
    "colab": {},
    "colab_type": "code",
    "id": "2lAaKQ6EYv04",
    "outputId": "53b66a94-acef-4002-e51c-002bde4178b4"
   },
   "outputs": [],
   "source": [
    "# #i am living in the New York\n",
    "# print(\"i am living in the New York -->\", list(chunks))\n",
    "# print(\" \")\n",
    "# print(\"-\"*50)\n",
    "# print(\" \")\n",
    "# #My name is Srikanth Varma\n",
    "# print(\"My name is Srikanth Varma -->\", list(chunks1))"
   ]
  },
  {
   "cell_type": "markdown",
   "metadata": {
    "colab_type": "text",
    "id": "XV8gzLUjYv0-"
   },
   "source": [
    "<pre>We did chunking for above two lines and then We got one list where each word is mapped to a \n",
    "POS(parts of speech) and also if you see \"New York\" and \"Srikanth Varma\", \n",
    "they got combined and represented as a tree and \"New York\" was referred as \"GPE\" and \"Srikanth Varma\" was referred as \"PERSON\". \n",
    "so now you have to Combine the \"New York\" with <b>\"_\"</b> i.e \"New_York\"\n",
    "and remove the \"Srikanth Varma\" from the above sentence because it is a person.</pre>"
   ]
  },
  {
   "cell_type": "markdown",
   "metadata": {
    "colab_type": "text",
    "id": "VpaC-KF3Yv1A"
   },
   "source": [
    "<pre>\n",
    "<font color='blue'><b>13.</b></font> Replace all the digits with space i.e delete all the digits. \n",
    "> In the above sample document, the 6th line have digit 100, so we have to remove that.\n",
    "\n",
    "<font color='blue'><b>14.</b></font> After doing above points, we observed there might be few word's like\n",
    " <b> \"_word_\" (i.e starting and ending with the _), \"_word\" (i.e starting with the _),\n",
    "  \"word_\" (i.e ending with the _)</b> remove the <b>_</b> from these type of words. \n",
    "\n",
    "<font color='blue'><b>15.</b></font>  We also observed some words like <b> \"OneLetter_word\"- eg: d_berlin, \n",
    "\"TwoLetters_word\" - eg: dr_berlin </b>, in these words we remove the \"OneLetter_\" (d_berlin ==> berlin) and \n",
    "\"TwoLetters_\" (de_berlin ==> berlin). i.e remove the words \n",
    "which are length less than or equal to 2 after spliiting those words by \"_\". \n",
    "\n",
    "<font color='blue'><b>16.</b></font> Convert all the words into lower case and lowe case \n",
    "and remove the words which are greater than or equal to 15 or less than or equal to 2.\n",
    "\n",
    "<font color='blue'><b>17.</b></font> replace all the words except \"A-Za-z_\" with space. \n",
    "\n",
    "<font color='blue'><b>18.</b></font> Now You got Preprocessed Text, email, subject. create a dataframe with those. \n",
    "Below are the columns of the df. \n",
    "</pre>"
   ]
  },
  {
   "cell_type": "markdown",
   "metadata": {},
   "source": [
    "# Functions for Preprocessing (Mail, Subject, Text)"
   ]
  },
  {
   "cell_type": "markdown",
   "metadata": {},
   "source": [
    "Task at hand:\n",
    "1. function for obtaining preprocessed mails \n",
    "2. function for obtaining preprocessed subjects \n",
    "3. function for obtaining preprocessed text"
   ]
  },
  {
   "cell_type": "code",
   "execution_count": 5,
   "metadata": {},
   "outputs": [],
   "source": [
    "import pandas as pd \n",
    "import numpy as np\n",
    "from itertools import chain\n",
    "import contractions\n",
    "import re"
   ]
  },
  {
   "cell_type": "code",
   "execution_count": 2,
   "metadata": {},
   "outputs": [],
   "source": [
    "# https://thispointer.com/python-remove-characters-from-string-by-regex-4-other-ways/"
   ]
  },
  {
   "cell_type": "markdown",
   "metadata": {},
   "source": [
    "### Mail Preprocessing "
   ]
  },
  {
   "cell_type": "code",
   "execution_count": 11,
   "metadata": {},
   "outputs": [],
   "source": [
    "#this function removes the first half of the mail id. e.g. joebiden@nyc.us.com -> nyc.us.com -> [nyc, us, com]\n",
    "#and removes any numbers\n",
    "def mail_preprocessing(mail):\n",
    "    tmp = re.sub('.*@', '', mail)\n",
    "    tmp = re.sub('[^a-zA-Z\\.]', '',tmp)\n",
    "    return tmp.split(sep='.')\n",
    "\n",
    "#this function takes one text at a time and returns the preprocessed and original mailids from that\n",
    "def preprocess_mail(text):\n",
    "    mails = re.findall('\\w\\S+@\\S+\\w', text) #returns a list of all mail ids from text\n",
    "    \n",
    "    mails_cpy = mails.copy() #we use this copy to perform operations and return the final string of words found in all mail ids\n",
    "    mails_cpy = list(map(mail_preprocessing, mails_cpy)) #returns a list of lists\n",
    "   \n",
    "    #to flatten the list refer - https://stackoverflow.com/questions/952914/how-to-make-a-flat-list-out-of-a-list-of-lists\n",
    "    mails_cpy = list(chain.from_iterable(mails_cpy)) \n",
    "    \n",
    "    mails_cpy_2 = mails_cpy.copy() #never remove elements and iterate over a list at the same time(causes index jump)\n",
    "    for word in mails_cpy_2:\n",
    "        if word=='com' or len(word)<=2:\n",
    "            mails_cpy.remove(word)\n",
    "    final = ' '.join(mails_cpy)\n",
    "    return final, mails "
   ]
  },
  {
   "cell_type": "code",
   "execution_count": 12,
   "metadata": {},
   "outputs": [
    {
     "name": "stdout",
     "output_type": "stream",
     "text": [
      "('mantis mantis mantis', ['mathew@mantis.co.uk', 'mathew@mantis.co.uk', 'pgpinfo@mantis.co.uk'])\n"
     ]
    }
   ],
   "source": [
    "#code check\n",
    "with open('documents/alt.atheism_51060.txt', 'r') as f:\n",
    "    text = f.read()\n",
    "print(preprocess_mail(text))"
   ]
  },
  {
   "cell_type": "markdown",
   "metadata": {},
   "source": [
    "### Subject Preprocessing "
   ]
  },
  {
   "cell_type": "code",
   "execution_count": 5,
   "metadata": {},
   "outputs": [],
   "source": [
    "def subject_preprocessing(sub):\n",
    "    #removing anything which appears in format similar to this 'Sub:' or 'Subject:' or 'FAQ:'\n",
    "    tmp = re.sub('\\w*:', '', sub)\n",
    "    \n",
    "    #removing if there is any stuff in brackets in our text like '[abc cyxs]' or '(abc xyz)' or '{abc sds}' or '<abs sd>'\n",
    "    #note: use \\ to escape characters\n",
    "    tmp = re.sub('\\[.*\\]', ' ', tmp)\n",
    "    tmp = re.sub('\\(.*\\)', ' ', tmp)\n",
    "    tmp = re.sub('\\{.*\\}', ' ', tmp)\n",
    "    tmp = re.sub('\\<.*\\>', ' ', tmp)\n",
    "    \n",
    "    #removing any special characters or numbers from our text\n",
    "    tmp = re.sub('[^a-zA-Z ]', ' ',tmp) #note: we have retained spaces and alphabets here\n",
    "    \n",
    "    return ' '.join(tmp.split()) #tmp.strip()\n",
    "\n",
    "def preprocess_subject(text): \n",
    "    subjects = re.findall('Subject:.+',text) #selects the subject line\n",
    "    subjects_cpy = subjects.copy() \n",
    "    final = list(map(subject_preprocessing, subjects_cpy))\n",
    "    final = ' '.join(final) #if more than 1 subject is present in the mail then join them\n",
    "    return final, subjects"
   ]
  },
  {
   "cell_type": "code",
   "execution_count": 6,
   "metadata": {},
   "outputs": [
    {
     "name": "stdout",
     "output_type": "stream",
     "text": [
      "('Alt Atheism Introduction to Atheism', ['Subject: Alt.Atheism FAQ: Introduction to Atheism'])\n"
     ]
    }
   ],
   "source": [
    "#code check\n",
    "print(preprocess_subject(text))"
   ]
  },
  {
   "cell_type": "markdown",
   "metadata": {},
   "source": [
    "### Text Preprocessing"
   ]
  },
  {
   "cell_type": "code",
   "execution_count": 2,
   "metadata": {},
   "outputs": [],
   "source": [
    "from nltk import word_tokenize, pos_tag, ne_chunk\n",
    "import nltk "
   ]
  },
  {
   "cell_type": "code",
   "execution_count": 3,
   "metadata": {},
   "outputs": [],
   "source": [
    "# nltk.download('punkt')\n",
    "# nltk.download('averaged_perceptron_tagger')\n",
    "# nltk.download('maxent_ne_chunker')\n",
    "# nltk.download('words')"
   ]
  },
  {
   "cell_type": "code",
   "execution_count": 9,
   "metadata": {},
   "outputs": [],
   "source": [
    "def remove_underscore(text): \n",
    "    #for underscore at end of word : word_\n",
    "    words_ = re.findall('\\s[a-zA-Z]+_\\Z', text) + re.findall('\\s[a-zA-Z]+_\\s', text) + re.findall('\\A[a-zA-Z]+_\\s', text) #merging all lists of pattern instances\n",
    "    #for underscore at start of word : _word\n",
    "    _words = re.findall('\\s_[a-zA-Z]+\\s', text) + re.findall('\\s_[a-zA-Z]+\\Z', text) + re.findall('\\A_[a-zA-Z]+\\s', text)\n",
    "    #for underscore at start and end of word : _word_\n",
    "    _words_ = re.findall('\\s_[a-zA-Z]+_\\s', text) + re.findall('\\s_[a-zA-Z]+_\\Z', text) + re.findall('\\A_[a-zA-Z]+_\\s', text)\n",
    "    \n",
    "    all_instances = words_ + _words_ + _words #merging the lists of all types of pattern instances\n",
    "    all_instances = list(map(lambda x: x.strip() ,all_instances))\n",
    "    stripped_words = []\n",
    "    \n",
    "    for instance in all_instances:\n",
    "        stripped_words.append(re.sub('[^a-zA-Z]', '', instance))\n",
    "    \n",
    "    for pair in list(zip(all_instances, stripped_words)):\n",
    "        text = text.replace(pair[0], pair[1])\n",
    "    \n",
    "    return text\n",
    "\n",
    "def get_chunk(text): \n",
    "    words = word_tokenize(text)\n",
    "    tagged = pos_tag(words) #parts of speech tagging of each word\n",
    "    return list(ne_chunk(tagged)) #named entities are grouped under a tree structure\n",
    "\n",
    "def preprocess(text):\n",
    "    tmp = text\n",
    "    p_mails, og_mails = preprocess_mail(tmp)\n",
    "    p_subs, og_subs = preprocess_subject(tmp)\n",
    "    \n",
    "    #replace all mails by space in original text\n",
    "    for mail in og_mails:\n",
    "        tmp = tmp.replace(mail, ' ')\n",
    "    \n",
    "    #replace the subject line by space in original text\n",
    "    for subj in og_subs:\n",
    "        tmp = tmp.replace(subj, ' ')\n",
    "    \n",
    "    #delete all sentences which start from 'write to:' or 'from:'\n",
    "    tmp = re.sub('(Write to:|From:).*', ' ', tmp) # can use (W|w) (F|f)\n",
    "    #delete all tags\n",
    "    tmp = re.sub('<.*>', ' ', tmp)\n",
    "    #delete data in brackets\n",
    "    tmp = re.sub('\\(.*\\)', ' ', tmp)\n",
    "    #delete \\n \\t _ \\\n",
    "    tmp = re.sub('[-\\n\\t]', ' ', tmp)\n",
    "    #delete all words attached to ':'\n",
    "    tmp = re.sub('\\w+:', ' ', tmp)\n",
    "     \n",
    "    #decontractions refer - # https://www.geeksforgeeks.org/nlp-expand-contractions-in-text-processing/\n",
    "    decontracted = []\n",
    "    for word in tmp.split():\n",
    "        decontracted.append(contractions.fix(word))\n",
    "    tmp = \" \".join(decontracted)\n",
    "    \n",
    "# The main aim of chunking operation is to identify person names and location names in the text and then remove person names\n",
    "# and replace 2 or more word long location names with same names only attached by a '_' \n",
    "    #chunking\n",
    "    chunks = get_chunk(tmp)\n",
    "    person = []\n",
    "    place = []\n",
    "    #removing the groups that are under the label 'PERSON'\n",
    "    for item in chunks: \n",
    "        if hasattr(item,'label'): #only named items in chunks will have a tree structure and a label\n",
    "            if item.label() == 'PERSON':\n",
    "                if type(item) is nltk.Tree:\n",
    "                    t = ' '.join(c[0] for c in item.leaves()) #item.leaves() gives the tagged words [(word, pos_tag)..(word_n, pos_tag)] in that specific tree (an n words long name of a person) \n",
    "                    person.append(t) #appends person name to list\n",
    "            if item.label() == 'GPE':\n",
    "                if type(item) is nltk.Tree: \n",
    "                    u = '_'.join(d[0] for d in item.leaves())\n",
    "                    place.append(u)\n",
    "    for p in person: \n",
    "        tmp = tmp.replace(p, ' ')\n",
    "    \n",
    "    for pl in place:\n",
    "        pl_tmp = pl.split('_') #we split the place here to get new_york ---> ['new', 'york']\n",
    "        pl_tmp = ' '.join(pl_tmp) #we join the place to get ['new', 'york'] ---> 'new york' to get the term which is originally in text\n",
    "        tmp = tmp.replace(pl_tmp, pl) #we find and replace 'new york' ---> 'new_york'\n",
    "        \n",
    "    \n",
    "    #remove all digits from the text\n",
    "    tmp = re.sub('\\d+', ' ', tmp)\n",
    "    \n",
    "    #remove '_' from words which start or end with '_'\n",
    "    #note the char '_' will be next to a whitespace \n",
    "    tmp = remove_underscore(tmp)\n",
    "    \n",
    "    #remove oneletter_ or twoletter_\n",
    "    instances = re.findall('\\s[a-zA-z]{1,2}_[a-zA-z]+', tmp)\n",
    "    instances = list(map(lambda x: x.strip(), instances))\n",
    "    for i in instances:\n",
    "        tmp = tmp.replace(i, (i.split(sep='_')[1]))\n",
    "    \n",
    "    #replace all the words except \"A-Za-z_\" with space. (doing this operation first so that only words are left in the text and no special characters or numbers)\n",
    "    tmp = re.sub('[^a-zA-Z_]', ' ', tmp)\n",
    "    \n",
    "    #lowercase all words and remove len(word)>=15 and len(word)<=2\n",
    "    tmp = tmp.lower()\n",
    "    tmp_list = tmp.split()\n",
    "    tmp_list_cpy = tmp_list.copy() #do not ever remove items and iterate over the list simultaneaously(causes the iterator to skip indexes)\n",
    "    for word in tmp_list_cpy:\n",
    "        if len(word)<=2 or len(word)>=15: \n",
    "            tmp_list.remove(word)\n",
    "    p_text = ' '.join(tmp_list)\n",
    "    \n",
    "    return p_text, p_mails, p_subs"
   ]
  },
  {
   "cell_type": "code",
   "execution_count": 13,
   "metadata": {},
   "outputs": [
    {
     "name": "stdout",
     "output_type": "stream",
     "text": [
      "archive atheism introduction alt atheism archive introduction last april egin pgp signed message int\n",
      "mantis mantis mantis\n",
      "Alt Atheism Introduction to Atheism\n"
     ]
    }
   ],
   "source": [
    "#code check\n",
    "t, m, s = preprocess(text)\n",
    "print(t[:100])\n",
    "print(m)\n",
    "print(s)"
   ]
  },
  {
   "cell_type": "markdown",
   "metadata": {},
   "source": [
    "# Preprocessing all the documents"
   ]
  },
  {
   "cell_type": "code",
   "execution_count": 14,
   "metadata": {},
   "outputs": [
    {
     "name": "stderr",
     "output_type": "stream",
     "text": [
      "100%|████████████████████████████████████████████████████████████████████████████| 18828/18828 [27:26<00:00, 11.43it/s]\n"
     ]
    }
   ],
   "source": [
    "# https://stackoverflow.com/questions/59180210/how-to-open-and-read-text-files-in-a-folder-python\n",
    "import os\n",
    "from tqdm import tqdm\n",
    "\n",
    "path = 'C:\\\\Users\\\\Chirag\\\\Desktop\\\\Python\\\\Applied AI Assignments\\\\21. Text Classification with CNN\\\\CNN_with_textdata\\\\documents\\\\'\n",
    "\n",
    "files = os.listdir(path)\n",
    "\n",
    "# https://pythonguides.com/python-numpy-empty-array/#:~:text=To%20create%20an%20empty%20array%20of%20strings%20we%20can%20easily,empty()%20function.\n",
    "# https://stackoverflow.com/questions/13717554/weird-behaviour-initializing-a-numpy-array-of-string-data\n",
    "classes = np.empty((len(files),), dtype='object')\n",
    "preprocessed_text = np.empty((len(files),),dtype = 'object')\n",
    "preprocessed_mails = np.empty((len(files),),dtype = 'object')\n",
    "preprocessed_subjects = np.empty((len(files),),dtype = 'object')\n",
    "\n",
    "for i in tqdm(range(len(files))):\n",
    "    text_class = re.sub(r'_.+', '', files[i]) #to get the class of document \n",
    "    classes[i] =  text_class\n",
    "    with open(path+files[i], 'r') as f:\n",
    "        text = f.read()\n",
    "        p_text, p_mail, p_subject = preprocess(text)\n",
    "        preprocessed_text[i] =  p_text\n",
    "        preprocessed_mails[i] = p_mail\n",
    "        preprocessed_subjects[i] = p_subject"
   ]
  },
  {
   "cell_type": "code",
   "execution_count": 15,
   "metadata": {},
   "outputs": [],
   "source": [
    "#save the results\n",
    "np.save('saved/preprocessed_text',preprocessed_text)\n",
    "np.save('saved/preprocessed_mails',preprocessed_mails)\n",
    "np.save('saved/preprocessed_subjects',preprocessed_subjects)\n",
    "np.save('saved/classes', classes)"
   ]
  },
  {
   "cell_type": "code",
   "execution_count": 51,
   "metadata": {},
   "outputs": [],
   "source": [
    "preprocessed_text = np.load('saved/preprocessed_text.npy', allow_pickle=True)\n",
    "preprocessed_mails = np.load('saved/preprocessed_mails.npy',allow_pickle=True)\n",
    "preprocessed_subjects = np.load('saved/preprocessed_subjects.npy',allow_pickle=True)\n",
    "classes = np.load('saved/classes.npy',allow_pickle=True)"
   ]
  },
  {
   "cell_type": "code",
   "execution_count": 5,
   "metadata": {},
   "outputs": [
    {
     "name": "stdout",
     "output_type": "stream",
     "text": [
      "18828 18828 18828 18828\n"
     ]
    }
   ],
   "source": [
    "#checking size\n",
    "print(len(preprocessed_text), len(preprocessed_mails), len(preprocessed_subjects), len(classes))"
   ]
  },
  {
   "cell_type": "code",
   "execution_count": 6,
   "metadata": {
    "scrolled": true
   },
   "outputs": [
    {
     "name": "stdout",
     "output_type": "stream",
     "text": [
      "Text: article well has quite different not necessarily more elaborated theology there some evidence that must have known and that the content was known him but not canonized form this new argument could you elaborate little the argument goes oid quotes appear but not the almost codified way they were however they are considered similar enough point knowledge such and not entirely different source assuming that knew would obviously put him after and would give evidence for the latter assumption not think this follows you take the most traditional attributions then might have known but elder figure either case are talking spans time here which are well within the range lifetimes are talking date texts here not the age the authors the usual explanation for the time order and does not consider their respective ages says has read the text and that assumed that knew the content text the evidence for that not overwhelming admittedly earlier manuscripts have been discovered interesting where and which how are they dated how old are they unfortunately have not got the info hand was the late early and was possibly old when they are from about why they she would doubt the order putting after the rest the three not see your point exactly what said they had first hand knowledge the events and obvious that least two them used older texts the base their account and even the association are not generally accepted well genuine letter would close enough would not sure original together with card sender and receiver would fine what that supposed say missing something and not think one step removed source that bad and and learned their stories directly from diciples then really cannot believe the sort big transformation from jesus gospel that some people posit news reports one generally gets better information than this and diciple then there nothing more said that was disciple not generally accepted the style and language together with the theology are usually used the argument that was disciple relies the claim the gospel itself there any other evidence for one step and one generation removed bad even our times compare that reports similar events our century almost illiterate societies not even speak off that believers are not necessarily the best sources also obvious that has been edited how old are the oldest manuscripts knowledge the oldest quite after any these estimates and not even complete the only clear editing problem the ending and basically hopeless mess the oldest versions give strong sense incompleteness the point where the shortest versions seem break off midsentence the most obvious solution that some point part the text was lost the material from verse pretty clearly later and seems represent synopsys the end other words one does not know what the original did look like and arguments based are pretty weak but how that connected redating benedikt \n",
      "Mail: dbstu tubs mimsy umd edu umd edu \n",
      "Subject: Gospel Dating \n",
      "Class: alt.atheism\n"
     ]
    }
   ],
   "source": [
    "#check results\n",
    "print('Text:', preprocessed_text[2], '\\nMail:',preprocessed_mails[2], '\\nSubject:', preprocessed_subjects[2], '\\nClass:',classes[2])"
   ]
  },
  {
   "cell_type": "markdown",
   "metadata": {},
   "source": [
    "# Analyzing Class Distribution and Assigning Weights"
   ]
  },
  {
   "cell_type": "code",
   "execution_count": 52,
   "metadata": {},
   "outputs": [
    {
     "data": {
      "text/plain": [
       "array([1.17822278, 0.96752312, 0.95573604, 0.9586558 , 0.97960458,\n",
       "       0.96061224, 0.96851852, 0.95090909, 0.94708249, 0.94708249,\n",
       "       0.94234234, 0.94994955, 0.95963303, 0.95090909, 0.95379939,\n",
       "       0.9442327 , 1.03450549, 1.00148936, 1.21470968, 1.49904459])"
      ]
     },
     "execution_count": 52,
     "metadata": {},
     "output_type": "execute_result"
    }
   ],
   "source": [
    "#refer - https://datascience.stackexchange.com/questions/13490/how-to-set-class-weights-for-imbalanced-classes-in-keras\n",
    "from sklearn.utils import class_weight\n",
    "class_weights = class_weight.compute_class_weight(class_weight = 'balanced',\n",
    "                                                 classes = np.unique(classes),\n",
    "                                                 y = classes)\n",
    "class_weights #move this to train data part "
   ]
  },
  {
   "cell_type": "code",
   "execution_count": 53,
   "metadata": {
    "scrolled": true
   },
   "outputs": [],
   "source": [
    "#to feed to the model\n",
    "class_w_dict = dict(zip(range(0,20), class_weights))"
   ]
  },
  {
   "cell_type": "code",
   "execution_count": 10,
   "metadata": {
    "scrolled": true
   },
   "outputs": [
    {
     "data": {
      "text/html": [
       "<div>\n",
       "<style scoped>\n",
       "    .dataframe tbody tr th:only-of-type {\n",
       "        vertical-align: middle;\n",
       "    }\n",
       "\n",
       "    .dataframe tbody tr th {\n",
       "        vertical-align: top;\n",
       "    }\n",
       "\n",
       "    .dataframe thead th {\n",
       "        text-align: right;\n",
       "    }\n",
       "</style>\n",
       "<table border=\"1\" class=\"dataframe\">\n",
       "  <thead>\n",
       "    <tr style=\"text-align: right;\">\n",
       "      <th></th>\n",
       "      <th>classes</th>\n",
       "      <th>counts</th>\n",
       "      <th>percentage</th>\n",
       "      <th>weights</th>\n",
       "    </tr>\n",
       "  </thead>\n",
       "  <tbody>\n",
       "    <tr>\n",
       "      <th>0</th>\n",
       "      <td>alt.atheism</td>\n",
       "      <td>799</td>\n",
       "      <td>0.042437</td>\n",
       "      <td>1.178223</td>\n",
       "    </tr>\n",
       "    <tr>\n",
       "      <th>1</th>\n",
       "      <td>comp.graphics</td>\n",
       "      <td>973</td>\n",
       "      <td>0.051678</td>\n",
       "      <td>0.967523</td>\n",
       "    </tr>\n",
       "    <tr>\n",
       "      <th>2</th>\n",
       "      <td>comp.os.ms-windows.misc</td>\n",
       "      <td>985</td>\n",
       "      <td>0.052316</td>\n",
       "      <td>0.955736</td>\n",
       "    </tr>\n",
       "    <tr>\n",
       "      <th>3</th>\n",
       "      <td>comp.sys.ibm.pc.hardware</td>\n",
       "      <td>982</td>\n",
       "      <td>0.052156</td>\n",
       "      <td>0.958656</td>\n",
       "    </tr>\n",
       "    <tr>\n",
       "      <th>4</th>\n",
       "      <td>comp.sys.mac.hardware</td>\n",
       "      <td>961</td>\n",
       "      <td>0.051041</td>\n",
       "      <td>0.979605</td>\n",
       "    </tr>\n",
       "    <tr>\n",
       "      <th>5</th>\n",
       "      <td>comp.windows.x</td>\n",
       "      <td>980</td>\n",
       "      <td>0.052050</td>\n",
       "      <td>0.960612</td>\n",
       "    </tr>\n",
       "    <tr>\n",
       "      <th>6</th>\n",
       "      <td>misc.forsale</td>\n",
       "      <td>972</td>\n",
       "      <td>0.051625</td>\n",
       "      <td>0.968519</td>\n",
       "    </tr>\n",
       "    <tr>\n",
       "      <th>7</th>\n",
       "      <td>rec.autos</td>\n",
       "      <td>990</td>\n",
       "      <td>0.052581</td>\n",
       "      <td>0.950909</td>\n",
       "    </tr>\n",
       "    <tr>\n",
       "      <th>8</th>\n",
       "      <td>rec.motorcycles</td>\n",
       "      <td>994</td>\n",
       "      <td>0.052794</td>\n",
       "      <td>0.947082</td>\n",
       "    </tr>\n",
       "    <tr>\n",
       "      <th>9</th>\n",
       "      <td>rec.sport.baseball</td>\n",
       "      <td>994</td>\n",
       "      <td>0.052794</td>\n",
       "      <td>0.947082</td>\n",
       "    </tr>\n",
       "    <tr>\n",
       "      <th>10</th>\n",
       "      <td>rec.sport.hockey</td>\n",
       "      <td>999</td>\n",
       "      <td>0.053059</td>\n",
       "      <td>0.942342</td>\n",
       "    </tr>\n",
       "    <tr>\n",
       "      <th>11</th>\n",
       "      <td>sci.crypt</td>\n",
       "      <td>991</td>\n",
       "      <td>0.052634</td>\n",
       "      <td>0.949950</td>\n",
       "    </tr>\n",
       "    <tr>\n",
       "      <th>12</th>\n",
       "      <td>sci.electronics</td>\n",
       "      <td>981</td>\n",
       "      <td>0.052103</td>\n",
       "      <td>0.959633</td>\n",
       "    </tr>\n",
       "    <tr>\n",
       "      <th>13</th>\n",
       "      <td>sci.med</td>\n",
       "      <td>990</td>\n",
       "      <td>0.052581</td>\n",
       "      <td>0.950909</td>\n",
       "    </tr>\n",
       "    <tr>\n",
       "      <th>14</th>\n",
       "      <td>sci.space</td>\n",
       "      <td>987</td>\n",
       "      <td>0.052422</td>\n",
       "      <td>0.953799</td>\n",
       "    </tr>\n",
       "    <tr>\n",
       "      <th>15</th>\n",
       "      <td>soc.religion.christian</td>\n",
       "      <td>997</td>\n",
       "      <td>0.052953</td>\n",
       "      <td>0.944233</td>\n",
       "    </tr>\n",
       "    <tr>\n",
       "      <th>16</th>\n",
       "      <td>talk.politics.guns</td>\n",
       "      <td>910</td>\n",
       "      <td>0.048332</td>\n",
       "      <td>1.034505</td>\n",
       "    </tr>\n",
       "    <tr>\n",
       "      <th>17</th>\n",
       "      <td>talk.politics.mideast</td>\n",
       "      <td>940</td>\n",
       "      <td>0.049926</td>\n",
       "      <td>1.001489</td>\n",
       "    </tr>\n",
       "    <tr>\n",
       "      <th>18</th>\n",
       "      <td>talk.politics.misc</td>\n",
       "      <td>775</td>\n",
       "      <td>0.041162</td>\n",
       "      <td>1.214710</td>\n",
       "    </tr>\n",
       "    <tr>\n",
       "      <th>19</th>\n",
       "      <td>talk.religion.misc</td>\n",
       "      <td>628</td>\n",
       "      <td>0.033355</td>\n",
       "      <td>1.499045</td>\n",
       "    </tr>\n",
       "  </tbody>\n",
       "</table>\n",
       "</div>"
      ],
      "text/plain": [
       "                     classes  counts  percentage   weights\n",
       "0                alt.atheism     799    0.042437  1.178223\n",
       "1              comp.graphics     973    0.051678  0.967523\n",
       "2    comp.os.ms-windows.misc     985    0.052316  0.955736\n",
       "3   comp.sys.ibm.pc.hardware     982    0.052156  0.958656\n",
       "4      comp.sys.mac.hardware     961    0.051041  0.979605\n",
       "5             comp.windows.x     980    0.052050  0.960612\n",
       "6               misc.forsale     972    0.051625  0.968519\n",
       "7                  rec.autos     990    0.052581  0.950909\n",
       "8            rec.motorcycles     994    0.052794  0.947082\n",
       "9         rec.sport.baseball     994    0.052794  0.947082\n",
       "10          rec.sport.hockey     999    0.053059  0.942342\n",
       "11                 sci.crypt     991    0.052634  0.949950\n",
       "12           sci.electronics     981    0.052103  0.959633\n",
       "13                   sci.med     990    0.052581  0.950909\n",
       "14                 sci.space     987    0.052422  0.953799\n",
       "15    soc.religion.christian     997    0.052953  0.944233\n",
       "16        talk.politics.guns     910    0.048332  1.034505\n",
       "17     talk.politics.mideast     940    0.049926  1.001489\n",
       "18        talk.politics.misc     775    0.041162  1.214710\n",
       "19        talk.religion.misc     628    0.033355  1.499045"
      ]
     },
     "execution_count": 10,
     "metadata": {},
     "output_type": "execute_result"
    }
   ],
   "source": [
    "unique_classes = pd.DataFrame({'classes': np.unique(classes, return_counts=True)[0], \n",
    "                               'counts': np.unique(classes, return_counts=True)[1],\n",
    "                              'percentage': list(map(lambda x: x/len(classes), np.unique(classes, return_counts=True)[1])), \n",
    "                              'weights': class_weights})\n",
    "unique_classes"
   ]
  },
  {
   "cell_type": "code",
   "execution_count": 11,
   "metadata": {},
   "outputs": [
    {
     "data": {
      "image/png": "[encoded data removed]",
      "text/plain": [
       "<Figure size 720x504 with 1 Axes>"
      ]
     },
     "metadata": {
      "needs_background": "light"
     },
     "output_type": "display_data"
    }
   ],
   "source": [
    "import seaborn as sns\n",
    "import matplotlib.pyplot as plt\n",
    "\n",
    "plt.figure(figsize=(10,7))\n",
    "sns.barplot(data = unique_classes, x = 'counts', y = 'classes')\n",
    "plt.show()"
   ]
  },
  {
   "cell_type": "markdown",
   "metadata": {
    "colab_type": "text",
    "id": "n3ucJLtWYv1V"
   },
   "source": [
    "### Training The models to Classify: \n",
    "\n",
    "<pre>\n",
    "1. Combine \"preprocessed_text\", \"preprocessed_subject\", \"preprocessed_emails\" into one column. use that column to model. \n",
    "\n",
    "2. Now Split the data into Train and test. use 25% for test also do a stratify split. \n",
    "\n",
    "3. Analyze your text data and pad the sequnce if required. \n",
    "Sequnce length is not restricted, you can use anything of your choice. \n",
    "you need to give the reasoning\n",
    "\n",
    "4. Do Tokenizer i.e convert text into numbers. please be careful while doing it. \n",
    "if you are using tf.keras \"Tokenizer\" API, it removes the <b>\"_\"</b>, but we need that.\n",
    "\n",
    "5. code the model's ( Model-1, Model-2 ) as discussed below \n",
    "and try to optimize that models.  \n",
    "\n",
    "6. For every model use predefined Glove vectors. \n",
    "<b>Don't train any word vectors while Training the model.</b>\n",
    "\n",
    "7. Use \"categorical_crossentropy\" as Loss. \n",
    "\n",
    "8. Use <b>Accuracy and Micro Avgeraged F1 score</b> as your as Key metrics to evaluate your model. \n",
    "\n",
    "9.  Use Tensorboard to plot the loss and Metrics based on the epoches.\n",
    "\n",
    "10. Please save your best model weights in to <b>'best_model_L.h5' ( L = 1 or 2 )</b>. \n",
    "\n",
    "11. You are free to choose any Activation function, learning rate, optimizer.\n",
    "But have to use the same architecture which we are giving below.\n",
    "\n",
    "12. You can add some layer to our architecture but you <b>deletion</b> of layer is not acceptable.\n",
    "\n",
    "13. Try to use <b>Early Stopping</b> technique or any of the callback techniques that you did in the previous assignments.\n",
    "\n",
    "14. For Every model save your model to image ( Plot the model) with shapes \n",
    "and inlcude those images in the notebook markdown cell, \n",
    "upload those imgages to Classroom. You can use \"plot_model\" \n",
    "please refer <a href='https://www.tensorflow.org/api_docs/python/tf/keras/utils/plot_model'>this</a> if you don't know how to plot the model with shapes. \n",
    "\n",
    "</pre>"
   ]
  },
  {
   "cell_type": "markdown",
   "metadata": {},
   "source": [
    "# Stratified Splitting "
   ]
  },
  {
   "cell_type": "code",
   "execution_count": 12,
   "metadata": {},
   "outputs": [
    {
     "name": "stdout",
     "output_type": "stream",
     "text": [
      "(18828,)\n"
     ]
    }
   ],
   "source": [
    "X = (preprocessed_text+' '+preprocessed_subjects+' '+preprocessed_mails)\n",
    "X = np.array(list(map(lambda x: x.lower(), X)))\n",
    "print(X.shape)"
   ]
  },
  {
   "cell_type": "code",
   "execution_count": 13,
   "metadata": {},
   "outputs": [
    {
     "name": "stdout",
     "output_type": "stream",
     "text": [
      "(18828,)\n"
     ]
    }
   ],
   "source": [
    "from sklearn.preprocessing import LabelEncoder\n",
    "le = LabelEncoder()\n",
    "y = le.fit_transform(classes)\n",
    "print(y.shape)"
   ]
  },
  {
   "cell_type": "code",
   "execution_count": 14,
   "metadata": {},
   "outputs": [
    {
     "data": {
      "text/plain": [
       "(array(['alt.atheism', 'alt.atheism', 'alt.atheism', 'alt.atheism',\n",
       "        'comp.graphics', 'comp.graphics', 'comp.graphics', 'comp.graphics',\n",
       "        'comp.graphics', 'comp.graphics'], dtype=object),\n",
       " array([0, 0, 0, 0, 1, 1, 1, 1, 1, 1]))"
      ]
     },
     "execution_count": 14,
     "metadata": {},
     "output_type": "execute_result"
    }
   ],
   "source": [
    "#checking\n",
    "classes[795:805], y[795:805]"
   ]
  },
  {
   "cell_type": "code",
   "execution_count": 15,
   "metadata": {
    "scrolled": true
   },
   "outputs": [
    {
     "name": "stdout",
     "output_type": "stream",
     "text": [
      "Classes: ['alt.atheism' 'comp.graphics' 'comp.os.ms-windows.misc'\n",
      " 'comp.sys.ibm.pc.hardware' 'comp.sys.mac.hardware' 'comp.windows.x'\n",
      " 'misc.forsale' 'rec.autos' 'rec.motorcycles' 'rec.sport.baseball'\n",
      " 'rec.sport.hockey' 'sci.crypt' 'sci.electronics' 'sci.med' 'sci.space'\n",
      " 'soc.religion.christian' 'talk.politics.guns' 'talk.politics.mideast'\n",
      " 'talk.politics.misc' 'talk.religion.misc']\n",
      "0     True\n",
      "1     True\n",
      "2     True\n",
      "3     True\n",
      "4     True\n",
      "5     True\n",
      "6     True\n",
      "7     True\n",
      "8     True\n",
      "9     True\n",
      "10    True\n",
      "11    True\n",
      "12    True\n",
      "13    True\n",
      "14    True\n",
      "15    True\n",
      "16    True\n",
      "17    True\n",
      "18    True\n",
      "19    True\n",
      "Name: classes, dtype: bool\n"
     ]
    }
   ],
   "source": [
    "#checking classes obtained from label encoder's fit against our original classes\n",
    "print('Classes:', le.classes_)\n",
    "print(le.classes_ == unique_classes['classes'])"
   ]
  },
  {
   "cell_type": "code",
   "execution_count": 21,
   "metadata": {},
   "outputs": [],
   "source": [
    "from sklearn.model_selection import train_test_split\n",
    "X_train, X_test, y_train, y_test = train_test_split(X, y, test_size=0.25, stratify=y, random_state=15)"
   ]
  },
  {
   "cell_type": "code",
   "execution_count": 22,
   "metadata": {},
   "outputs": [
    {
     "name": "stdout",
     "output_type": "stream",
     "text": [
      "article article fri apr can god uncreate itself fo 0 (14121,) (14121,)\n",
      "article stupid question but what will cview run an 1 (4707,) (4707,)\n"
     ]
    }
   ],
   "source": [
    "#checking results and shape\n",
    "print(X_train[0][:50], y_train[0], X_train.shape, y_train.shape)\n",
    "print(X_test[0][:50], y_test[0], X_test.shape, y_test.shape)"
   ]
  },
  {
   "cell_type": "code",
   "execution_count": 28,
   "metadata": {},
   "outputs": [],
   "source": [
    "# Converts a class vector (integers) to binary class matrix. [0,1,2] -> [[1,0,0], [0,1,0], [0,0,1]]\n",
    "from tensorflow.keras.utils import to_categorical\n",
    "y_train_tocat = to_categorical(y_train, num_classes=20)\n",
    "y_test_tocat = to_categorical(y_test, num_classes=20)"
   ]
  },
  {
   "cell_type": "code",
   "execution_count": 33,
   "metadata": {},
   "outputs": [
    {
     "name": "stdout",
     "output_type": "stream",
     "text": [
      "[[1. 0. 0. 0. 0. 0. 0. 0. 0. 0. 0. 0. 0. 0. 0. 0. 0. 0. 0. 0.]\n",
      " [0. 1. 0. 0. 0. 0. 0. 0. 0. 0. 0. 0. 0. 0. 0. 0. 0. 0. 0. 0.]\n",
      " [0. 0. 0. 0. 0. 0. 0. 0. 0. 0. 0. 0. 1. 0. 0. 0. 0. 0. 0. 0.]] [ 0  1 12] (14121, 20)\n",
      "[[0. 1. 0. 0. 0. 0. 0. 0. 0. 0. 0. 0. 0. 0. 0. 0. 0. 0. 0. 0.]\n",
      " [0. 0. 0. 0. 0. 0. 0. 0. 0. 0. 0. 0. 1. 0. 0. 0. 0. 0. 0. 0.]\n",
      " [0. 0. 0. 0. 0. 0. 0. 0. 0. 0. 0. 0. 0. 0. 0. 0. 0. 0. 1. 0.]] [ 1 12 18] (4707, 20)\n"
     ]
    }
   ],
   "source": [
    "#check results\n",
    "print(y_train_tocat[:3], y_train[:3], y_train_tocat.shape)\n",
    "print(y_test_tocat[:3], y_test[:3], y_test_tocat.shape)"
   ]
  },
  {
   "cell_type": "code",
   "execution_count": 35,
   "metadata": {},
   "outputs": [],
   "source": [
    "np.save('saved/X_train.npy',X_train)\n",
    "np.save('saved/X_test.npy',X_test)\n",
    "np.save('saved/y_train.npy',y_train)\n",
    "np.save('saved/y_test.npy',y_test)\n",
    "np.save('saved/y_train_tocat.npy',y_train_tocat)\n",
    "np.save('saved/y_test_tocat.npy',y_test_tocat)"
   ]
  },
  {
   "cell_type": "code",
   "execution_count": 6,
   "metadata": {},
   "outputs": [],
   "source": [
    "X_train = np.load('saved/X_train.npy')\n",
    "X_test = np.load('saved/X_test.npy')\n",
    "y_train = np.load('saved/y_train_tocat.npy')\n",
    "y_test = np.load('saved/y_test_tocat.npy')"
   ]
  },
  {
   "cell_type": "code",
   "execution_count": null,
   "metadata": {},
   "outputs": [],
   "source": []
  },
  {
   "cell_type": "markdown",
   "metadata": {},
   "source": [
    "# Approach - 1"
   ]
  },
  {
   "cell_type": "markdown",
   "metadata": {},
   "source": [
    "# Converting text to sequences using Keras Tokenizer"
   ]
  },
  {
   "cell_type": "code",
   "execution_count": null,
   "metadata": {},
   "outputs": [],
   "source": [
    "#refer - https://towardsdatascience.com/nlp-preparing-text-for-deep-learning-model-using-tensorflow2-461428138657"
   ]
  },
  {
   "cell_type": "code",
   "execution_count": 7,
   "metadata": {},
   "outputs": [],
   "source": [
    "from tensorflow import keras"
   ]
  },
  {
   "cell_type": "code",
   "execution_count": 8,
   "metadata": {},
   "outputs": [
    {
     "name": "stdout",
     "output_type": "stream",
     "text": [
      "77315\n"
     ]
    }
   ],
   "source": [
    "#remove '_' from the filters list\n",
    "#use an <OOV> token so that if some words in test that are not present in train can be replaced with the token\n",
    "tokenizer = keras.preprocessing.text.Tokenizer(filters ='!\"#$%&()*+,-./:;<=>?@[\\\\]^`{|}~\\t\\n', oov_token = '<OOV>') \n",
    "\n",
    "#fit the tokenizer on train and get the word index which is a dictionary of unique words with an index like -> {word: index}\n",
    "#note: the value in the dictionary is just an index and not the frequency of word\n",
    "tokenizer.fit_on_texts(X_train)\n",
    "word_index = tokenizer.word_index \n",
    "print(len(word_index))"
   ]
  },
  {
   "cell_type": "code",
   "execution_count": 6,
   "metadata": {},
   "outputs": [],
   "source": [
    "#convert each text to sequence of numbers, tokenizer internally uses word_index to replace each word by its corresponding index number\n",
    "X_train_seq = tokenizer.texts_to_sequences(X_train)\n",
    "X_test_seq = tokenizer.texts_to_sequences(X_test)"
   ]
  },
  {
   "cell_type": "code",
   "execution_count": 7,
   "metadata": {},
   "outputs": [
    {
     "name": "stdout",
     "output_type": "stream",
     "text": [
      "Text: article article fri apr can god uncreate itself for did would violate his own nature which cannot nature exist after all the which statement his inherent existence existence itself existence cannot not exist then mentioned above must not very omnipotent what you mean omnipotent here you mean omnipotent that should able anything everything this creates self contradictory definition omnipotence which effectively useless descriptive omnipotence must mean being all powerful and not being able anything everything let illustrate analogy the united_states were the only nuclear power earth further that the military could not effectively countered any nation group nations the has the power into any country any time for any reason straighten things out the leaders the see fit the would militarily omnipotent did you check with the afghans before posting this they might disagree jon omnipotence solntze wpd sgi batman bmd trw batman bmd trw psilink psilink andrew cmu edu Length: 150\n",
      "\n",
      "\n",
      "Sequence: [27, 27, 5073, 791, 20, 226, 33152, 543, 7, 58, 16, 6362, 48, 131, 799, 33, 85, 799, 613, 89, 22, 2, 33, 526, 48, 4439, 871, 871, 543, 871, 85, 5, 613, 53, 706, 252, 136, 5, 68, 9731, 19, 6, 232, 9731, 81, 6, 232, 9731, 4, 60, 238, 164, 370, 10, 3800, 496, 3683, 1074, 11597, 33, 2733, 2548, 11137, 11597, 136, 232, 90, 22, 1800, 3, 5, 90, 238, 164, 370, 125, 11598, 3722, 2, 1048, 34, 2, 46, 1455, 171, 488, 725, 4, 2, 623, 57, 5, 2733, 16732, 28, 1371, 220, 1827, 2, 25, 2, 171, 65, 28, 454, 28, 55, 7, 28, 245, 12104, 127, 31, 2, 1449, 2, 72, 1192, 2, 16, 11138, 9731, 58, 6, 478, 12, 2, 33153, 113, 435, 10, 15, 120, 1532, 3578, 11597, 2687, 2472, 818, 4616, 5298, 3374, 4616, 5298, 3374, 6060, 6060, 1035, 534, 11] Length: 150\n"
     ]
    }
   ],
   "source": [
    "#check code\n",
    "print('Text:',X_train[0], 'Length:',len(X_train[0].split()))\n",
    "print('\\n')\n",
    "print('Sequence:',X_train_seq[0],'Length:', len(X_train_seq[0]))"
   ]
  },
  {
   "cell_type": "code",
   "execution_count": 8,
   "metadata": {},
   "outputs": [
    {
     "name": "stdout",
     "output_type": "stream",
     "text": [
      "Text: article stupid question but what will cview run and where can get still need gif viewer for thanks boy there way hell you are going able view gifs any other graphics without windows love because easy learn you want text okay use you want text and graphics use with windows painless required have windows you want graphics this includes fancy word processors like doc image viewers like etc this not quite correct remember the vgalib package that comes with sls will switch vga mode without xwindows least possible write gif viewer under however not think that there exists similar svga package and viewing gifs not very nice best regards cview answers imag imag rahul net rahul net whiting mcs whiting mcs silene imag Length: 123\n",
      "\n",
      "\n",
      "Sequence: [27, 988, 128, 14, 19, 17, 5343, 190, 3, 84, 20, 45, 108, 95, 740, 2276, 7, 122, 2002, 21, 69, 468, 6, 9, 100, 238, 463, 4950, 28, 43, 299, 134, 159, 403, 54, 544, 822, 6, 88, 487, 1871, 56, 6, 88, 487, 3, 299, 56, 12, 159, 10666, 868, 8, 159, 6, 88, 299, 10, 808, 3929, 306, 4520, 37, 2971, 243, 4764, 37, 153, 10, 5, 281, 517, 308, 2, 21425, 473, 4, 390, 12, 26478, 17, 1047, 1244, 604, 134, 8785, 211, 216, 462, 740, 2276, 155, 170, 5, 51, 4, 21, 878, 461, 2846, 473, 3, 3240, 4950, 5, 68, 469, 177, 1497, 5343, 869, 6078, 6078, 5521, 231, 5521, 231, 23872, 4333, 23872, 4333, 62603, 6078] Length: 123\n"
     ]
    }
   ],
   "source": [
    "print('Text:',X_test[0], 'Length:',len(X_test[0].split()))\n",
    "print('\\n')\n",
    "print('Sequence:',X_test_seq[0],'Length:', len(X_test_seq[0]))"
   ]
  },
  {
   "cell_type": "markdown",
   "metadata": {},
   "source": [
    "# Analysis of Sequence length to determine best value for 'maxlen' parameter"
   ]
  },
  {
   "cell_type": "code",
   "execution_count": 9,
   "metadata": {},
   "outputs": [
    {
     "data": {
      "text/plain": [
       "(150, 92, 166)"
      ]
     },
     "execution_count": 9,
     "metadata": {},
     "output_type": "execute_result"
    }
   ],
   "source": [
    "#every sentence has a different length\n",
    "#we cannot input such data where each xi is of different size and therefore padding is required\n",
    "len(X_train_seq[0]), len(X_train_seq[1]), len(X_train_seq[2])"
   ]
  },
  {
   "cell_type": "markdown",
   "metadata": {},
   "source": [
    "1. Padding is technique that adds a particular padding value(e.g. 0) to the lists. \n",
    "2. The main aim of padding is to return outputs that are of equal length. \n",
    "3. In our case we successfully converted the text to numeric sequence using keras tokenizer. Now, every text is converted to a list of numbers in a particular sequence but all these lists aren't of the same length and neural networks don't take inputs of diferrent sizes therefore we pad the lists such that all lists end up to be of the same size. \n",
    "4. We use pad_sequences for this process, maxlen is a parameter in pad_sequences which takes a number and provides padding to each list of size smaller than maxlen to make it equal to maxlen and uses truncating to reduce size of lists that are larger than maxlen."
   ]
  },
  {
   "cell_type": "markdown",
   "metadata": {},
   "source": [
    "In this section we analyse whats the size of the sequences and what range do the maximum number of sequence lengths fall in to determine a good maxlen parameter value."
   ]
  },
  {
   "cell_type": "code",
   "execution_count": 10,
   "metadata": {},
   "outputs": [
    {
     "data": {
      "text/plain": [
       "count    14121.000000\n",
       "mean       186.750443\n",
       "std        354.091039\n",
       "min          1.000000\n",
       "25%         65.000000\n",
       "50%        112.000000\n",
       "75%        195.000000\n",
       "max       8674.000000\n",
       "dtype: float64"
      ]
     },
     "execution_count": 10,
     "metadata": {},
     "output_type": "execute_result"
    }
   ],
   "source": [
    "seq_sizes = pd.Series(list(map(lambda x: len(x), X_train_seq)))\n",
    "seq_sizes.describe()"
   ]
  },
  {
   "cell_type": "markdown",
   "metadata": {},
   "source": [
    "Observations:\n",
    "1. 75% of sequence sizes are less than 197 which clearly means max(seq_size) which is 8674 is an outlier, we explore percentiles a little further."
   ]
  },
  {
   "cell_type": "code",
   "execution_count": 14,
   "metadata": {},
   "outputs": [
    {
     "data": {
      "image/png": "[encoded data removed]",
      "text/plain": [
       "<Figure size 1080x576 with 1 Axes>"
      ]
     },
     "metadata": {
      "needs_background": "light"
     },
     "output_type": "display_data"
    }
   ],
   "source": [
    "import matplotlib.pyplot as plt\n",
    "import seaborn as sns \n",
    "\n",
    "plt.figure(figsize=(15,8))\n",
    "\n",
    "plt.hist(seq_sizes, bins=30)\n",
    "\n",
    "plt.xticks(np.arange(0,8700,500))\n",
    "\n",
    "plt.xlabel('Sequence Size')\n",
    "plt.ylabel('Count')\n",
    "plt.title('Sequence Size Distribution')\n",
    "\n",
    "plt.grid()\n",
    "plt.show()"
   ]
  },
  {
   "cell_type": "code",
   "execution_count": 12,
   "metadata": {},
   "outputs": [
    {
     "data": {
      "text/html": [
       "<div>\n",
       "<style scoped>\n",
       "    .dataframe tbody tr th:only-of-type {\n",
       "        vertical-align: middle;\n",
       "    }\n",
       "\n",
       "    .dataframe tbody tr th {\n",
       "        vertical-align: top;\n",
       "    }\n",
       "\n",
       "    .dataframe thead th {\n",
       "        text-align: right;\n",
       "    }\n",
       "</style>\n",
       "<table border=\"1\" class=\"dataframe\">\n",
       "  <thead>\n",
       "    <tr style=\"text-align: right;\">\n",
       "      <th></th>\n",
       "      <th>Percentiles</th>\n",
       "      <th>Percentile Values</th>\n",
       "    </tr>\n",
       "  </thead>\n",
       "  <tbody>\n",
       "    <tr>\n",
       "      <th>0</th>\n",
       "      <td>25</td>\n",
       "      <td>65.0</td>\n",
       "    </tr>\n",
       "    <tr>\n",
       "      <th>1</th>\n",
       "      <td>50</td>\n",
       "      <td>112.0</td>\n",
       "    </tr>\n",
       "    <tr>\n",
       "      <th>2</th>\n",
       "      <td>75</td>\n",
       "      <td>195.0</td>\n",
       "    </tr>\n",
       "    <tr>\n",
       "      <th>3</th>\n",
       "      <td>80</td>\n",
       "      <td>226.0</td>\n",
       "    </tr>\n",
       "    <tr>\n",
       "      <th>4</th>\n",
       "      <td>85</td>\n",
       "      <td>271.0</td>\n",
       "    </tr>\n",
       "    <tr>\n",
       "      <th>5</th>\n",
       "      <td>90</td>\n",
       "      <td>344.0</td>\n",
       "    </tr>\n",
       "    <tr>\n",
       "      <th>6</th>\n",
       "      <td>95</td>\n",
       "      <td>515.0</td>\n",
       "    </tr>\n",
       "    <tr>\n",
       "      <th>7</th>\n",
       "      <td>96</td>\n",
       "      <td>583.2</td>\n",
       "    </tr>\n",
       "    <tr>\n",
       "      <th>8</th>\n",
       "      <td>97</td>\n",
       "      <td>693.0</td>\n",
       "    </tr>\n",
       "    <tr>\n",
       "      <th>9</th>\n",
       "      <td>98</td>\n",
       "      <td>901.6</td>\n",
       "    </tr>\n",
       "    <tr>\n",
       "      <th>10</th>\n",
       "      <td>99</td>\n",
       "      <td>1338.6</td>\n",
       "    </tr>\n",
       "  </tbody>\n",
       "</table>\n",
       "</div>"
      ],
      "text/plain": [
       "    Percentiles  Percentile Values\n",
       "0            25               65.0\n",
       "1            50              112.0\n",
       "2            75              195.0\n",
       "3            80              226.0\n",
       "4            85              271.0\n",
       "5            90              344.0\n",
       "6            95              515.0\n",
       "7            96              583.2\n",
       "8            97              693.0\n",
       "9            98              901.6\n",
       "10           99             1338.6"
      ]
     },
     "execution_count": 12,
     "metadata": {},
     "output_type": "execute_result"
    }
   ],
   "source": [
    "size_analysis = pd.DataFrame({'Percentiles': [25,50,75,80, 85,90,95,96,97,98,99], \n",
    "                              'Percentile Values': np.percentile(seq_sizes, [25,50,75,80, 85,90,95,96,97,98,99])})\n",
    "size_analysis"
   ]
  },
  {
   "cell_type": "markdown",
   "metadata": {},
   "source": [
    "Observations:\n",
    "1. Clearly, 95% of sequences in train are of size <=515 which is ~13415\n",
    "\n",
    "Conclusion: We use 95th percentile value as our maxlen"
   ]
  },
  {
   "cell_type": "code",
   "execution_count": 15,
   "metadata": {},
   "outputs": [],
   "source": [
    "#we keep truncate to its default value 'pre' because we have added mails and subjects at the end of text and cannot afford to lose that information\n",
    "X_train_padded = keras.preprocessing.sequence.pad_sequences(X_train_seq, maxlen = 515) \n",
    "X_test_padded = keras.preprocessing.sequence.pad_sequences(X_test_seq, maxlen = 515)"
   ]
  },
  {
   "cell_type": "code",
   "execution_count": 16,
   "metadata": {},
   "outputs": [
    {
     "name": "stdout",
     "output_type": "stream",
     "text": [
      "[[   0    0    0 ... 1035  534   11]\n",
      " [   0    0    0 ... 2281 2473   11]]\n",
      "[[    0     0     0 ...  4333 62603  6078]\n",
      " [    0     0     0 ... 42180 23918 13147]]\n"
     ]
    }
   ],
   "source": [
    "#check results\n",
    "print(X_train_padded[:2])\n",
    "print(X_test_padded[:2])"
   ]
  },
  {
   "cell_type": "code",
   "execution_count": 17,
   "metadata": {},
   "outputs": [
    {
     "name": "stdout",
     "output_type": "stream",
     "text": [
      "(14121, 515) (4707, 515)\n"
     ]
    }
   ],
   "source": [
    "#check shape \n",
    "print(X_train_padded.shape, X_test_padded.shape)"
   ]
  },
  {
   "cell_type": "code",
   "execution_count": 97,
   "metadata": {},
   "outputs": [],
   "source": [
    "np.save('saved/X_train_padded.npy',X_train_padded)\n",
    "np.save('saved/X_test_padded.npy', X_test_padded)"
   ]
  },
  {
   "cell_type": "markdown",
   "metadata": {
    "colab_type": "text",
    "id": "c0mwdtcvYv1X"
   },
   "source": [
    "### Model-1: Using 1D convolutions with word embeddings"
   ]
  },
  {
   "cell_type": "markdown",
   "metadata": {
    "colab_type": "text",
    "id": "gXPPsovJ3ePk"
   },
   "source": [
    "<pre>\n",
    "<b>Encoding of the Text </b> --> For a given text data create a Matrix with Embedding layer as shown Below. \n",
    "In the example we have considered d = 5, but in this assignment we will get d = dimension of Word vectors we are using.\n",
    " i.e if we have maximum of 350 words in a sentence and embedding of 300 dim word vector, \n",
    " we result in 350*300 dimensional matrix for each sentance as output after embedding layer\n",
    "<img src='https://i.imgur.com/kiVQuk1.png'>\n",
    "Ref: https://i.imgur.com/kiVQuk1.png\n",
    "\n",
    "<b>Reference:</b>\n",
    "<a href='https://stackoverflow.com/a/43399308/4084039'>https://stackoverflow.com/a/43399308/4084039</a>\n",
    "<a href='https://missinglink.ai/guides/keras/keras-conv1d-working-1d-convolutional-neural-networks-keras/'>https://missinglink.ai/guides/keras/keras-conv1d-working-1d-convolutional-neural-networks-keras/</a>\n",
    "\n",
    "<b><a href='https://stats.stackexchange.com/questions/270546/how-does-keras-embedding-layer-work'>How EMBEDDING LAYER WORKS </a></b>\n",
    "\n",
    "</pre>\n",
    "\n",
    "### Go through this blog, if you have any doubt on using predefined Embedding values in Embedding layer - https://machinelearningmastery.com/use-word-embedding-layers-deep-learning-keras/"
   ]
  },
  {
   "cell_type": "markdown",
   "metadata": {},
   "source": [
    "1. In an embedding, words are represented by dense vectors where a vector represents the projection of the word into a continuous vector space.\n",
    " \n",
    "2. The position of a word within the vector space is learned from text and is based on the words that surround the word when it is used."
   ]
  },
  {
   "cell_type": "markdown",
   "metadata": {},
   "source": [
    "# Create Word Embedding Matrix using Glove "
   ]
  },
  {
   "cell_type": "code",
   "execution_count": 9,
   "metadata": {},
   "outputs": [],
   "source": [
    "import pickle\n",
    "with open('glove_vectors', 'rb') as f:\n",
    "    word_dict = pickle.load(f)\n",
    "    glove_words = set(word_dict.keys())"
   ]
  },
  {
   "cell_type": "markdown",
   "metadata": {},
   "source": [
    "1. Create a zeros matrix of shape (len(word_index.keys())+1, 300), we add 1 because word_index dictionary starts indexing from 1 like {word1: 1, word2: 2,..wordn: n} and we need each row index of matrix to match the word's index. So, the 0th row vector remains 0, the 1st row vector represents the word1, the 2nd row vector represents the word2 and so on.\n",
    "\n",
    "\n",
    "2. Get the word vector corresponding to the word from glove's word_dict, if the word_dict doesn't have the word in its keys it will return None in that case the row vector at that index in matrix retains 0 values otherwise it will replace the row vector at that index with the vector obtained from word_dict."
   ]
  },
  {
   "cell_type": "code",
   "execution_count": 10,
   "metadata": {},
   "outputs": [],
   "source": [
    "embedded_layer_weights = np.zeros((len(word_index.keys())+1, 300))\n",
    "\n",
    "for word, index in list(word_index.items()): \n",
    "    word_vec = word_dict.get(word)  \n",
    "    if word_vec is not None:\n",
    "        embedded_layer_weights[index] = word_vec"
   ]
  },
  {
   "cell_type": "code",
   "execution_count": 20,
   "metadata": {},
   "outputs": [
    {
     "name": "stdout",
     "output_type": "stream",
     "text": [
      "(77316, 300)\n",
      "[[ 0.         0.         0.        ...  0.         0.         0.       ]\n",
      " [ 0.         0.         0.        ...  0.         0.         0.       ]\n",
      " [-0.20838   -0.14932   -0.017528  ... -0.54066    0.21199   -0.0094357]\n",
      " [-0.09611   -0.25788   -0.3586    ... -0.3703    -0.092774   0.39058  ]\n",
      " [ 0.15805   -0.26233    0.17418   ... -0.31724    0.23749    0.31161  ]]\n"
     ]
    }
   ],
   "source": [
    "#check results\n",
    "print(embedded_layer_weights.shape)\n",
    "print(embedded_layer_weights[:5]) #0th row remains 0 and 1st row represents OOV token so its also 0 "
   ]
  },
  {
   "cell_type": "markdown",
   "metadata": {},
   "source": [
    "This Word Embedding Matrix is fed as weights to the Embedding Layer of the Model."
   ]
  },
  {
   "cell_type": "markdown",
   "metadata": {},
   "source": [
    "# Model Building"
   ]
  },
  {
   "cell_type": "markdown",
   "metadata": {},
   "source": [
    "highly recommend watching this for CNN layers understanding- https://www.youtube.com/watch?v=m8pOnJxOcqY"
   ]
  },
  {
   "cell_type": "code",
   "execution_count": 11,
   "metadata": {},
   "outputs": [],
   "source": [
    "from tensorflow.keras import Model\n",
    "from tensorflow.keras.layers import *\n",
    "from tensorflow.random import set_seed\n",
    "from tensorflow.keras.utils import plot_model\n",
    "from numpy.random import seed"
   ]
  },
  {
   "cell_type": "code",
   "execution_count": 22,
   "metadata": {},
   "outputs": [
    {
     "data": {
      "text/plain": [
       "((14121, 515), (77316, 300))"
      ]
     },
     "execution_count": 22,
     "metadata": {},
     "output_type": "execute_result"
    }
   ],
   "source": [
    "X_train_padded.shape, embedded_layer_weights.shape#weight mat"
   ]
  },
  {
   "cell_type": "markdown",
   "metadata": {},
   "source": [
    "### Writing Callbacks"
   ]
  },
  {
   "cell_type": "code",
   "execution_count": 25,
   "metadata": {},
   "outputs": [],
   "source": [
    "from tensorflow_addons.metrics import F1Score\n",
    "import datetime\n",
    "import os"
   ]
  },
  {
   "cell_type": "code",
   "execution_count": 27,
   "metadata": {},
   "outputs": [],
   "source": [
    "checkpoint_cb_dict = {}\n",
    "\n",
    "for i in range (1,3):\n",
    "    path = f'checkpoints_model_{i}' + '/weights-{epoch:02d}-{val_accuracy:.4f}.hdf5'\n",
    "    checkpoint_cb_dict[i] = keras.callbacks.ModelCheckpoint(filepath = path, monitor = 'val_accuracy', \n",
    "                                                save_best_only=True, verbose=0, mode='max')"
   ]
  },
  {
   "cell_type": "code",
   "execution_count": 28,
   "metadata": {},
   "outputs": [
    {
     "data": {
      "text/plain": [
       "{1: <keras.callbacks.ModelCheckpoint at 0x7f4c20178bd0>,\n",
       " 2: <keras.callbacks.ModelCheckpoint at 0x7f4c20178f10>}"
      ]
     },
     "execution_count": 28,
     "metadata": {},
     "output_type": "execute_result"
    }
   ],
   "source": [
    "checkpoint_cb_dict"
   ]
  },
  {
   "cell_type": "code",
   "execution_count": 29,
   "metadata": {},
   "outputs": [],
   "source": [
    "# refer for F1 score- https://stackoverflow.com/questions/66554207/calculating-micro-f-1-score-in-keras\n",
    "earlystop_callback = keras.callbacks.EarlyStopping(monitor='val_accuracy', min_delta=0.0001, \n",
    "                                                   patience=3, verbose=1, mode='max', restore_best_weights=True)"
   ]
  },
  {
   "cell_type": "code",
   "execution_count": 30,
   "metadata": {},
   "outputs": [],
   "source": [
    "%load_ext tensorboard "
   ]
  },
  {
   "cell_type": "code",
   "execution_count": 33,
   "metadata": {},
   "outputs": [],
   "source": [
    "tensorboard_cb_dict = {}\n",
    "\n",
    "for i in range(1,3):\n",
    "    log_dir = os.path.join(f'logs_model_{i}','fits', datetime.datetime.now().strftime(\"%Y%m%d-%H%M%S\"))\n",
    "    tensorboard_cb_dict[i] = keras.callbacks.TensorBoard(log_dir=log_dir,histogram_freq=1,write_graph=True)"
   ]
  },
  {
   "cell_type": "code",
   "execution_count": 34,
   "metadata": {},
   "outputs": [
    {
     "data": {
      "text/plain": [
       "{1: <keras.callbacks.TensorBoard at 0x7f4c2ec23bd0>,\n",
       " 2: <keras.callbacks.TensorBoard at 0x7f4c201853d0>}"
      ]
     },
     "execution_count": 34,
     "metadata": {},
     "output_type": "execute_result"
    }
   ],
   "source": [
    "tensorboard_cb_dict"
   ]
  },
  {
   "cell_type": "code",
   "execution_count": 58,
   "metadata": {},
   "outputs": [],
   "source": [
    "callbacks_1 = [checkpoint_cb_dict[1], earlystop_callback, tensorboard_cb_dict[1]]"
   ]
  },
  {
   "cell_type": "markdown",
   "metadata": {},
   "source": [
    "### Creating Functional Model"
   ]
  },
  {
   "cell_type": "code",
   "execution_count": 13,
   "metadata": {},
   "outputs": [
    {
     "name": "stdout",
     "output_type": "stream",
     "text": [
      "Model: \"model_1\"\n",
      "__________________________________________________________________________________________________\n",
      " Layer (type)                   Output Shape         Param #     Connected to                     \n",
      "==================================================================================================\n",
      " input_2 (InputLayer)           [(None, 515)]        0           []                               \n",
      "                                                                                                  \n",
      " embedding_1 (Embedding)        (None, 515, 300)     23194800    ['input_2[0][0]']                \n",
      "                                                                                                  \n",
      " conv1d_7 (Conv1D)              (None, 258, 16)      14416       ['embedding_1[0][0]']            \n",
      "                                                                                                  \n",
      " conv1d_8 (Conv1D)              (None, 258, 16)      24016       ['embedding_1[0][0]']            \n",
      "                                                                                                  \n",
      " conv1d_9 (Conv1D)              (None, 258, 16)      33616       ['embedding_1[0][0]']            \n",
      "                                                                                                  \n",
      " concatenate_2 (Concatenate)    (None, 258, 48)      0           ['conv1d_7[0][0]',               \n",
      "                                                                  'conv1d_8[0][0]',               \n",
      "                                                                  'conv1d_9[0][0]']               \n",
      "                                                                                                  \n",
      " max_pooling1d_2 (MaxPooling1D)  (None, 129, 48)     0           ['concatenate_2[0][0]']          \n",
      "                                                                                                  \n",
      " conv1d_10 (Conv1D)             (None, 65, 16)       3088        ['max_pooling1d_2[0][0]']        \n",
      "                                                                                                  \n",
      " conv1d_11 (Conv1D)             (None, 65, 16)       4624        ['max_pooling1d_2[0][0]']        \n",
      "                                                                                                  \n",
      " conv1d_12 (Conv1D)             (None, 65, 16)       6160        ['max_pooling1d_2[0][0]']        \n",
      "                                                                                                  \n",
      " concatenate_3 (Concatenate)    (None, 65, 48)       0           ['conv1d_10[0][0]',              \n",
      "                                                                  'conv1d_11[0][0]',              \n",
      "                                                                  'conv1d_12[0][0]']              \n",
      "                                                                                                  \n",
      " max_pooling1d_3 (MaxPooling1D)  (None, 32, 48)      0           ['concatenate_3[0][0]']          \n",
      "                                                                                                  \n",
      " conv1d_13 (Conv1D)             (None, 16, 16)       9232        ['max_pooling1d_3[0][0]']        \n",
      "                                                                                                  \n",
      " flatten_1 (Flatten)            (None, 256)          0           ['conv1d_13[0][0]']              \n",
      "                                                                                                  \n",
      " dropout_1 (Dropout)            (None, 256)          0           ['flatten_1[0][0]']              \n",
      "                                                                                                  \n",
      " dense_2 (Dense)                (None, 64)           16448       ['dropout_1[0][0]']              \n",
      "                                                                                                  \n",
      " dense_3 (Dense)                (None, 20)           1300        ['dense_2[0][0]']                \n",
      "                                                                                                  \n",
      "==================================================================================================\n",
      "Total params: 23,307,700\n",
      "Trainable params: 23,307,700\n",
      "Non-trainable params: 0\n",
      "__________________________________________________________________________________________________\n",
      "None\n"
     ]
    }
   ],
   "source": [
    "set_seed(42)\n",
    "np.random.seed(42)\n",
    "\n",
    "\n",
    "#Input shape = size of each sequence in our data (i.e. 562) #change this as per the analysis\n",
    "input_layer = Input(shape=(515,))\n",
    "\n",
    "\n",
    "#refer for embedding layer - https://medium.com/analytics-vidhya/understanding-embedding-layer-in-keras-bbe3ff1327ce#:~:text=Embedding%20layer%20enables%20us%20to,way%20along%20with%20reduced%20dimensions.\n",
    "\n",
    "#Embedding layer outputs a matrix of shape 515x300, it replaces each word index in the sequence by corresponding weight vector of size 300\n",
    "embedding_layer =  Embedding(77316, 300, weights = [embedded_layer_weights], input_length=515, trainable=True)(input_layer)\n",
    "\n",
    "#Convolute output from previous layer with different kernel sizes and concatenate the results\n",
    "conv1D_m = Conv1D(filters = 16,kernel_size = 3, strides = 2, padding='same', activation='relu' )(embedding_layer) \n",
    "conv1D_n = Conv1D(filters = 16,kernel_size = 5, strides = 2, padding='same', activation='relu')(embedding_layer) \n",
    "conv1D_o = Conv1D(filters = 16,kernel_size = 7, strides = 2, padding='same',activation='relu')(embedding_layer) \n",
    "concat_1 = Concatenate()([conv1D_m,conv1D_n,conv1D_o])\n",
    "\n",
    "#Apply Max Pooling on the output from previous layer\n",
    "maxpool_1 = MaxPooling1D(pool_size=2, strides=2, padding='valid')(concat_1)\n",
    "\n",
    "#Convolute output from previous layer with different kernel sizes and concatenate the results\n",
    "conv1D_m2 = Conv1D(filters = 16,kernel_size = 4, strides = 2, padding='same', activation='relu')(maxpool_1)\n",
    "conv1D_n2 = Conv1D(filters = 16,kernel_size = 6, strides = 2, padding='same', activation='relu')(maxpool_1) \n",
    "conv1D_o2 = Conv1D(filters = 16,kernel_size = 8, strides = 2, padding='same',activation='relu')(maxpool_1) \n",
    "concat_2 = Concatenate()([conv1D_m2,conv1D_n2,conv1D_o2])\n",
    "\n",
    "#Apply Max Pooling on the output from previous layer\n",
    "maxpool_2 = MaxPooling1D(pool_size=2, strides=2, padding='valid')(concat_2)\n",
    "\n",
    "#Convolute output from previous layer \n",
    "conv1D_p = Conv1D(filters = 16,kernel_size = 12, strides = 2, padding='same',activation='relu')(maxpool_2)\n",
    "\n",
    "#Flatten the output from previous layer\n",
    "flatten = Flatten()(conv1D_p)\n",
    "\n",
    "#Add dropout layer for regularization\n",
    "dropout = Dropout(0.2)(flatten)\n",
    "\n",
    "#Add Dense Layer \n",
    "dense_2 = Dense(64, activation='relu', kernel_initializer= keras.initializers.HeUniform())(dropout)\n",
    "\n",
    "#Output layer returns 20 probability values each corresponding to a class  \n",
    "output_layer = Dense(20, activation='softmax')(dense_2)\n",
    "\n",
    "\n",
    "model = Model(inputs= [input_layer], outputs=[output_layer])\n",
    "\n",
    "print(model.summary())"
   ]
  },
  {
   "cell_type": "code",
   "execution_count": 15,
   "metadata": {},
   "outputs": [
    {
     "data": {
      "image/png": "[encoded data removed]",
      "text/plain": [
       "<IPython.core.display.Image object>"
      ]
     },
     "execution_count": 15,
     "metadata": {},
     "output_type": "execute_result"
    }
   ],
   "source": [
    "dot_img_file = 'images/model_1.png'\n",
    "plot_model(model, to_file=dot_img_file, rankdir = 'TB', show_shapes=True)"
   ]
  },
  {
   "cell_type": "markdown",
   "metadata": {},
   "source": [
    "### Training the Model"
   ]
  },
  {
   "cell_type": "code",
   "execution_count": 92,
   "metadata": {
    "scrolled": true
   },
   "outputs": [
    {
     "name": "stdout",
     "output_type": "stream",
     "text": [
      "Epoch 1/100\n",
      "113/113 [==============================] - 28s 235ms/step - loss: 2.7500 - accuracy: 0.1048 - f1_score: 0.1048 - val_loss: 2.3042 - val_accuracy: 0.1890 - val_f1_score: 0.1890\n",
      "Epoch 2/100\n",
      "113/113 [==============================] - 26s 233ms/step - loss: 1.8676 - accuracy: 0.3412 - f1_score: 0.3412 - val_loss: 1.5507 - val_accuracy: 0.4623 - val_f1_score: 0.4623\n",
      "Epoch 3/100\n",
      "113/113 [==============================] - 27s 235ms/step - loss: 1.1928 - accuracy: 0.5799 - f1_score: 0.5799 - val_loss: 1.2140 - val_accuracy: 0.6053 - val_f1_score: 0.6053\n",
      "Epoch 4/100\n",
      "113/113 [==============================] - 27s 239ms/step - loss: 0.6478 - accuracy: 0.7779 - f1_score: 0.7779 - val_loss: 0.9832 - val_accuracy: 0.7034 - val_f1_score: 0.7034\n",
      "Epoch 5/100\n",
      "113/113 [==============================] - 27s 239ms/step - loss: 0.3125 - accuracy: 0.9029 - f1_score: 0.9029 - val_loss: 1.0363 - val_accuracy: 0.7136 - val_f1_score: 0.7136\n",
      "Epoch 6/100\n",
      "113/113 [==============================] - 27s 241ms/step - loss: 0.1632 - accuracy: 0.9506 - f1_score: 0.9506 - val_loss: 1.1086 - val_accuracy: 0.7465 - val_f1_score: 0.7465\n",
      "Epoch 7/100\n",
      "113/113 [==============================] - 27s 239ms/step - loss: 0.0917 - accuracy: 0.9740 - f1_score: 0.9740 - val_loss: 1.1943 - val_accuracy: 0.7512 - val_f1_score: 0.7512\n",
      "Epoch 8/100\n",
      "113/113 [==============================] - 27s 243ms/step - loss: 0.0600 - accuracy: 0.9840 - f1_score: 0.9840 - val_loss: 1.2551 - val_accuracy: 0.7593 - val_f1_score: 0.7593\n",
      "Epoch 9/100\n",
      "113/113 [==============================] - 27s 239ms/step - loss: 0.0584 - accuracy: 0.9821 - f1_score: 0.9821 - val_loss: 1.1765 - val_accuracy: 0.7703 - val_f1_score: 0.7703\n",
      "Epoch 10/100\n",
      "113/113 [==============================] - 27s 240ms/step - loss: 0.0423 - accuracy: 0.9886 - f1_score: 0.9886 - val_loss: 1.3061 - val_accuracy: 0.7696 - val_f1_score: 0.7696\n",
      "Epoch 11/100\n",
      "113/113 [==============================] - 29s 256ms/step - loss: 0.0286 - accuracy: 0.9918 - f1_score: 0.9918 - val_loss: 1.3783 - val_accuracy: 0.7777 - val_f1_score: 0.7777\n",
      "Epoch 12/100\n",
      "113/113 [==============================] - 28s 249ms/step - loss: 0.0332 - accuracy: 0.9910 - f1_score: 0.9910 - val_loss: 1.4470 - val_accuracy: 0.7664 - val_f1_score: 0.7664\n",
      "Epoch 13/100\n",
      "113/113 [==============================] - 29s 254ms/step - loss: 0.0239 - accuracy: 0.9943 - f1_score: 0.9943 - val_loss: 1.3601 - val_accuracy: 0.7827 - val_f1_score: 0.7827\n",
      "Epoch 14/100\n",
      "113/113 [==============================] - 28s 252ms/step - loss: 0.0343 - accuracy: 0.9912 - f1_score: 0.9912 - val_loss: 1.4509 - val_accuracy: 0.7660 - val_f1_score: 0.7660\n",
      "Epoch 15/100\n",
      "113/113 [==============================] - 28s 249ms/step - loss: 0.0257 - accuracy: 0.9925 - f1_score: 0.9925 - val_loss: 1.4579 - val_accuracy: 0.7841 - val_f1_score: 0.7841\n",
      "Epoch 16/100\n",
      "113/113 [==============================] - 26s 233ms/step - loss: 0.0191 - accuracy: 0.9950 - f1_score: 0.9950 - val_loss: 1.5115 - val_accuracy: 0.7819 - val_f1_score: 0.7819\n",
      "Epoch 17/100\n",
      "113/113 [==============================] - 27s 241ms/step - loss: 0.0189 - accuracy: 0.9954 - f1_score: 0.9954 - val_loss: 1.4806 - val_accuracy: 0.7904 - val_f1_score: 0.7904\n",
      "Epoch 18/100\n",
      "113/113 [==============================] - 27s 239ms/step - loss: 0.0270 - accuracy: 0.9931 - f1_score: 0.9931 - val_loss: 1.4351 - val_accuracy: 0.7858 - val_f1_score: 0.7858\n",
      "Epoch 19/100\n",
      "113/113 [==============================] - 27s 243ms/step - loss: 0.0179 - accuracy: 0.9952 - f1_score: 0.9952 - val_loss: 1.5262 - val_accuracy: 0.7827 - val_f1_score: 0.7827\n",
      "Epoch 20/100\n",
      "113/113 [==============================] - 28s 247ms/step - loss: 0.0357 - accuracy: 0.9893 - f1_score: 0.9893 - val_loss: 1.3492 - val_accuracy: 0.7922 - val_f1_score: 0.7922\n",
      "Epoch 21/100\n",
      "113/113 [==============================] - 28s 245ms/step - loss: 0.0179 - accuracy: 0.9956 - f1_score: 0.9956 - val_loss: 1.5701 - val_accuracy: 0.7745 - val_f1_score: 0.7745\n",
      "Epoch 22/100\n",
      "113/113 [==============================] - 27s 236ms/step - loss: 0.0179 - accuracy: 0.9952 - f1_score: 0.9952 - val_loss: 1.5794 - val_accuracy: 0.7816 - val_f1_score: 0.7816\n",
      "Epoch 23/100\n",
      "113/113 [==============================] - 27s 239ms/step - loss: 0.0158 - accuracy: 0.9958 - f1_score: 0.9958 - val_loss: 1.5365 - val_accuracy: 0.7961 - val_f1_score: 0.7961\n",
      "Epoch 24/100\n",
      "113/113 [==============================] - 27s 238ms/step - loss: 0.0158 - accuracy: 0.9954 - f1_score: 0.9954 - val_loss: 1.4835 - val_accuracy: 0.7982 - val_f1_score: 0.7982\n",
      "Epoch 25/100\n",
      "113/113 [==============================] - 26s 233ms/step - loss: 0.0248 - accuracy: 0.9932 - f1_score: 0.9932 - val_loss: 1.4800 - val_accuracy: 0.7954 - val_f1_score: 0.7954\n",
      "Epoch 26/100\n",
      "113/113 [==============================] - 27s 243ms/step - loss: 0.0222 - accuracy: 0.9957 - f1_score: 0.9957 - val_loss: 1.4881 - val_accuracy: 0.7989 - val_f1_score: 0.7989\n",
      "Epoch 27/100\n",
      "113/113 [==============================] - 27s 237ms/step - loss: 0.0107 - accuracy: 0.9972 - f1_score: 0.9972 - val_loss: 1.3790 - val_accuracy: 0.8050 - val_f1_score: 0.8050\n",
      "Epoch 28/100\n",
      "113/113 [==============================] - 27s 235ms/step - loss: 0.0170 - accuracy: 0.9964 - f1_score: 0.9964 - val_loss: 1.4772 - val_accuracy: 0.8007 - val_f1_score: 0.8007\n",
      "Epoch 29/100\n",
      "113/113 [==============================] - 27s 238ms/step - loss: 0.0102 - accuracy: 0.9970 - f1_score: 0.9970 - val_loss: 1.5310 - val_accuracy: 0.8028 - val_f1_score: 0.8028\n",
      "Epoch 30/100\n",
      "113/113 [==============================] - 27s 243ms/step - loss: 0.0064 - accuracy: 0.9978 - f1_score: 0.9978 - val_loss: 1.5321 - val_accuracy: 0.8074 - val_f1_score: 0.8074\n",
      "Epoch 31/100\n",
      "113/113 [==============================] - 28s 244ms/step - loss: 0.0258 - accuracy: 0.9925 - f1_score: 0.9925 - val_loss: 1.5606 - val_accuracy: 0.7940 - val_f1_score: 0.7940\n",
      "Epoch 32/100\n",
      "113/113 [==============================] - 27s 243ms/step - loss: 0.0207 - accuracy: 0.9947 - f1_score: 0.9947 - val_loss: 1.5982 - val_accuracy: 0.7929 - val_f1_score: 0.7929\n",
      "Epoch 33/100\n",
      "113/113 [==============================] - ETA: 0s - loss: 0.0230 - accuracy: 0.9936 - f1_score: 0.9936Restoring model weights from the end of the best epoch: 30.\n",
      "113/113 [==============================] - 27s 235ms/step - loss: 0.0230 - accuracy: 0.9936 - f1_score: 0.9936 - val_loss: 1.6906 - val_accuracy: 0.7936 - val_f1_score: 0.7936\n",
      "Epoch 00033: early stopping\n"
     ]
    }
   ],
   "source": [
    "model.compile(optimizer='Adam',loss='categorical_crossentropy',metrics=['accuracy', F1Score(num_classes = 20, average = 'micro')])\n",
    "\n",
    "#Using 20% of train as validation data\n",
    "history = model.fit(X_train_padded, y_train, epochs=100, validation_split = 0.2, batch_size=100, class_weight =class_w_dict, callbacks = callbacks_1) "
   ]
  },
  {
   "cell_type": "code",
   "execution_count": 93,
   "metadata": {
    "scrolled": true
   },
   "outputs": [
    {
     "data": {
      "text/html": [
       "<div>\n",
       "<style scoped>\n",
       "    .dataframe tbody tr th:only-of-type {\n",
       "        vertical-align: middle;\n",
       "    }\n",
       "\n",
       "    .dataframe tbody tr th {\n",
       "        vertical-align: top;\n",
       "    }\n",
       "\n",
       "    .dataframe thead th {\n",
       "        text-align: right;\n",
       "    }\n",
       "</style>\n",
       "<table border=\"1\" class=\"dataframe\">\n",
       "  <thead>\n",
       "    <tr style=\"text-align: right;\">\n",
       "      <th></th>\n",
       "      <th>loss</th>\n",
       "      <th>accuracy</th>\n",
       "      <th>f1_score</th>\n",
       "      <th>val_loss</th>\n",
       "      <th>val_accuracy</th>\n",
       "      <th>val_f1_score</th>\n",
       "    </tr>\n",
       "  </thead>\n",
       "  <tbody>\n",
       "    <tr>\n",
       "      <th>0</th>\n",
       "      <td>2.750041</td>\n",
       "      <td>0.104816</td>\n",
       "      <td>0.104816</td>\n",
       "      <td>2.304174</td>\n",
       "      <td>0.189027</td>\n",
       "      <td>0.189027</td>\n",
       "    </tr>\n",
       "    <tr>\n",
       "      <th>1</th>\n",
       "      <td>1.867638</td>\n",
       "      <td>0.341183</td>\n",
       "      <td>0.341183</td>\n",
       "      <td>1.550711</td>\n",
       "      <td>0.462301</td>\n",
       "      <td>0.462301</td>\n",
       "    </tr>\n",
       "    <tr>\n",
       "      <th>2</th>\n",
       "      <td>1.192821</td>\n",
       "      <td>0.579851</td>\n",
       "      <td>0.579851</td>\n",
       "      <td>1.214043</td>\n",
       "      <td>0.605310</td>\n",
       "      <td>0.605310</td>\n",
       "    </tr>\n",
       "    <tr>\n",
       "      <th>3</th>\n",
       "      <td>0.647843</td>\n",
       "      <td>0.777886</td>\n",
       "      <td>0.777886</td>\n",
       "      <td>0.983229</td>\n",
       "      <td>0.703363</td>\n",
       "      <td>0.703363</td>\n",
       "    </tr>\n",
       "    <tr>\n",
       "      <th>4</th>\n",
       "      <td>0.312475</td>\n",
       "      <td>0.902886</td>\n",
       "      <td>0.902886</td>\n",
       "      <td>1.036254</td>\n",
       "      <td>0.713628</td>\n",
       "      <td>0.713628</td>\n",
       "    </tr>\n",
       "    <tr>\n",
       "      <th>5</th>\n",
       "      <td>0.163154</td>\n",
       "      <td>0.950602</td>\n",
       "      <td>0.950602</td>\n",
       "      <td>1.108560</td>\n",
       "      <td>0.746549</td>\n",
       "      <td>0.746549</td>\n",
       "    </tr>\n",
       "    <tr>\n",
       "      <th>6</th>\n",
       "      <td>0.091657</td>\n",
       "      <td>0.973973</td>\n",
       "      <td>0.973973</td>\n",
       "      <td>1.194261</td>\n",
       "      <td>0.751150</td>\n",
       "      <td>0.751150</td>\n",
       "    </tr>\n",
       "    <tr>\n",
       "      <th>7</th>\n",
       "      <td>0.059970</td>\n",
       "      <td>0.983977</td>\n",
       "      <td>0.983977</td>\n",
       "      <td>1.255101</td>\n",
       "      <td>0.759292</td>\n",
       "      <td>0.759292</td>\n",
       "    </tr>\n",
       "    <tr>\n",
       "      <th>8</th>\n",
       "      <td>0.058417</td>\n",
       "      <td>0.982118</td>\n",
       "      <td>0.982118</td>\n",
       "      <td>1.176503</td>\n",
       "      <td>0.770265</td>\n",
       "      <td>0.770265</td>\n",
       "    </tr>\n",
       "    <tr>\n",
       "      <th>9</th>\n",
       "      <td>0.042348</td>\n",
       "      <td>0.988580</td>\n",
       "      <td>0.988580</td>\n",
       "      <td>1.306081</td>\n",
       "      <td>0.769558</td>\n",
       "      <td>0.769558</td>\n",
       "    </tr>\n",
       "    <tr>\n",
       "      <th>10</th>\n",
       "      <td>0.028557</td>\n",
       "      <td>0.991767</td>\n",
       "      <td>0.991767</td>\n",
       "      <td>1.378252</td>\n",
       "      <td>0.777699</td>\n",
       "      <td>0.777699</td>\n",
       "    </tr>\n",
       "    <tr>\n",
       "      <th>11</th>\n",
       "      <td>0.033201</td>\n",
       "      <td>0.990970</td>\n",
       "      <td>0.990970</td>\n",
       "      <td>1.446956</td>\n",
       "      <td>0.766372</td>\n",
       "      <td>0.766372</td>\n",
       "    </tr>\n",
       "    <tr>\n",
       "      <th>12</th>\n",
       "      <td>0.023873</td>\n",
       "      <td>0.994334</td>\n",
       "      <td>0.994334</td>\n",
       "      <td>1.360109</td>\n",
       "      <td>0.782655</td>\n",
       "      <td>0.782655</td>\n",
       "    </tr>\n",
       "    <tr>\n",
       "      <th>13</th>\n",
       "      <td>0.034314</td>\n",
       "      <td>0.991236</td>\n",
       "      <td>0.991236</td>\n",
       "      <td>1.450858</td>\n",
       "      <td>0.766018</td>\n",
       "      <td>0.766018</td>\n",
       "    </tr>\n",
       "    <tr>\n",
       "      <th>14</th>\n",
       "      <td>0.025665</td>\n",
       "      <td>0.992475</td>\n",
       "      <td>0.992475</td>\n",
       "      <td>1.457850</td>\n",
       "      <td>0.784071</td>\n",
       "      <td>0.784071</td>\n",
       "    </tr>\n",
       "    <tr>\n",
       "      <th>15</th>\n",
       "      <td>0.019068</td>\n",
       "      <td>0.994954</td>\n",
       "      <td>0.994954</td>\n",
       "      <td>1.511488</td>\n",
       "      <td>0.781947</td>\n",
       "      <td>0.781947</td>\n",
       "    </tr>\n",
       "    <tr>\n",
       "      <th>16</th>\n",
       "      <td>0.018852</td>\n",
       "      <td>0.995397</td>\n",
       "      <td>0.995397</td>\n",
       "      <td>1.480645</td>\n",
       "      <td>0.790442</td>\n",
       "      <td>0.790442</td>\n",
       "    </tr>\n",
       "    <tr>\n",
       "      <th>17</th>\n",
       "      <td>0.027038</td>\n",
       "      <td>0.993095</td>\n",
       "      <td>0.993095</td>\n",
       "      <td>1.435084</td>\n",
       "      <td>0.785841</td>\n",
       "      <td>0.785841</td>\n",
       "    </tr>\n",
       "    <tr>\n",
       "      <th>18</th>\n",
       "      <td>0.017860</td>\n",
       "      <td>0.995220</td>\n",
       "      <td>0.995220</td>\n",
       "      <td>1.526213</td>\n",
       "      <td>0.782655</td>\n",
       "      <td>0.782655</td>\n",
       "    </tr>\n",
       "    <tr>\n",
       "      <th>19</th>\n",
       "      <td>0.035672</td>\n",
       "      <td>0.989288</td>\n",
       "      <td>0.989288</td>\n",
       "      <td>1.349182</td>\n",
       "      <td>0.792212</td>\n",
       "      <td>0.792212</td>\n",
       "    </tr>\n",
       "    <tr>\n",
       "      <th>20</th>\n",
       "      <td>0.017926</td>\n",
       "      <td>0.995574</td>\n",
       "      <td>0.995574</td>\n",
       "      <td>1.570147</td>\n",
       "      <td>0.774513</td>\n",
       "      <td>0.774513</td>\n",
       "    </tr>\n",
       "    <tr>\n",
       "      <th>21</th>\n",
       "      <td>0.017874</td>\n",
       "      <td>0.995220</td>\n",
       "      <td>0.995220</td>\n",
       "      <td>1.579424</td>\n",
       "      <td>0.781593</td>\n",
       "      <td>0.781593</td>\n",
       "    </tr>\n",
       "    <tr>\n",
       "      <th>22</th>\n",
       "      <td>0.015758</td>\n",
       "      <td>0.995751</td>\n",
       "      <td>0.995751</td>\n",
       "      <td>1.536500</td>\n",
       "      <td>0.796106</td>\n",
       "      <td>0.796106</td>\n",
       "    </tr>\n",
       "    <tr>\n",
       "      <th>23</th>\n",
       "      <td>0.015838</td>\n",
       "      <td>0.995397</td>\n",
       "      <td>0.995397</td>\n",
       "      <td>1.483487</td>\n",
       "      <td>0.798230</td>\n",
       "      <td>0.798230</td>\n",
       "    </tr>\n",
       "    <tr>\n",
       "      <th>24</th>\n",
       "      <td>0.024767</td>\n",
       "      <td>0.993183</td>\n",
       "      <td>0.993183</td>\n",
       "      <td>1.479958</td>\n",
       "      <td>0.795398</td>\n",
       "      <td>0.795398</td>\n",
       "    </tr>\n",
       "    <tr>\n",
       "      <th>25</th>\n",
       "      <td>0.022238</td>\n",
       "      <td>0.995662</td>\n",
       "      <td>0.995662</td>\n",
       "      <td>1.488112</td>\n",
       "      <td>0.798938</td>\n",
       "      <td>0.798938</td>\n",
       "    </tr>\n",
       "    <tr>\n",
       "      <th>26</th>\n",
       "      <td>0.010698</td>\n",
       "      <td>0.997167</td>\n",
       "      <td>0.997167</td>\n",
       "      <td>1.378968</td>\n",
       "      <td>0.804956</td>\n",
       "      <td>0.804956</td>\n",
       "    </tr>\n",
       "    <tr>\n",
       "      <th>27</th>\n",
       "      <td>0.016991</td>\n",
       "      <td>0.996370</td>\n",
       "      <td>0.996370</td>\n",
       "      <td>1.477241</td>\n",
       "      <td>0.800708</td>\n",
       "      <td>0.800708</td>\n",
       "    </tr>\n",
       "    <tr>\n",
       "      <th>28</th>\n",
       "      <td>0.010182</td>\n",
       "      <td>0.996990</td>\n",
       "      <td>0.996990</td>\n",
       "      <td>1.531031</td>\n",
       "      <td>0.802832</td>\n",
       "      <td>0.802832</td>\n",
       "    </tr>\n",
       "    <tr>\n",
       "      <th>29</th>\n",
       "      <td>0.006398</td>\n",
       "      <td>0.997787</td>\n",
       "      <td>0.997787</td>\n",
       "      <td>1.532067</td>\n",
       "      <td>0.807434</td>\n",
       "      <td>0.807434</td>\n",
       "    </tr>\n",
       "    <tr>\n",
       "      <th>30</th>\n",
       "      <td>0.025808</td>\n",
       "      <td>0.992475</td>\n",
       "      <td>0.992475</td>\n",
       "      <td>1.560571</td>\n",
       "      <td>0.793982</td>\n",
       "      <td>0.793982</td>\n",
       "    </tr>\n",
       "    <tr>\n",
       "      <th>31</th>\n",
       "      <td>0.020694</td>\n",
       "      <td>0.994688</td>\n",
       "      <td>0.994688</td>\n",
       "      <td>1.598157</td>\n",
       "      <td>0.792920</td>\n",
       "      <td>0.792920</td>\n",
       "    </tr>\n",
       "    <tr>\n",
       "      <th>32</th>\n",
       "      <td>0.022988</td>\n",
       "      <td>0.993626</td>\n",
       "      <td>0.993626</td>\n",
       "      <td>1.690555</td>\n",
       "      <td>0.793628</td>\n",
       "      <td>0.793628</td>\n",
       "    </tr>\n",
       "  </tbody>\n",
       "</table>\n",
       "</div>"
      ],
      "text/plain": [
       "        loss  accuracy  f1_score  val_loss  val_accuracy  val_f1_score\n",
       "0   2.750041  0.104816  0.104816  2.304174      0.189027      0.189027\n",
       "1   1.867638  0.341183  0.341183  1.550711      0.462301      0.462301\n",
       "2   1.192821  0.579851  0.579851  1.214043      0.605310      0.605310\n",
       "3   0.647843  0.777886  0.777886  0.983229      0.703363      0.703363\n",
       "4   0.312475  0.902886  0.902886  1.036254      0.713628      0.713628\n",
       "5   0.163154  0.950602  0.950602  1.108560      0.746549      0.746549\n",
       "6   0.091657  0.973973  0.973973  1.194261      0.751150      0.751150\n",
       "7   0.059970  0.983977  0.983977  1.255101      0.759292      0.759292\n",
       "8   0.058417  0.982118  0.982118  1.176503      0.770265      0.770265\n",
       "9   0.042348  0.988580  0.988580  1.306081      0.769558      0.769558\n",
       "10  0.028557  0.991767  0.991767  1.378252      0.777699      0.777699\n",
       "11  0.033201  0.990970  0.990970  1.446956      0.766372      0.766372\n",
       "12  0.023873  0.994334  0.994334  1.360109      0.782655      0.782655\n",
       "13  0.034314  0.991236  0.991236  1.450858      0.766018      0.766018\n",
       "14  0.025665  0.992475  0.992475  1.457850      0.784071      0.784071\n",
       "15  0.019068  0.994954  0.994954  1.511488      0.781947      0.781947\n",
       "16  0.018852  0.995397  0.995397  1.480645      0.790442      0.790442\n",
       "17  0.027038  0.993095  0.993095  1.435084      0.785841      0.785841\n",
       "18  0.017860  0.995220  0.995220  1.526213      0.782655      0.782655\n",
       "19  0.035672  0.989288  0.989288  1.349182      0.792212      0.792212\n",
       "20  0.017926  0.995574  0.995574  1.570147      0.774513      0.774513\n",
       "21  0.017874  0.995220  0.995220  1.579424      0.781593      0.781593\n",
       "22  0.015758  0.995751  0.995751  1.536500      0.796106      0.796106\n",
       "23  0.015838  0.995397  0.995397  1.483487      0.798230      0.798230\n",
       "24  0.024767  0.993183  0.993183  1.479958      0.795398      0.795398\n",
       "25  0.022238  0.995662  0.995662  1.488112      0.798938      0.798938\n",
       "26  0.010698  0.997167  0.997167  1.378968      0.804956      0.804956\n",
       "27  0.016991  0.996370  0.996370  1.477241      0.800708      0.800708\n",
       "28  0.010182  0.996990  0.996990  1.531031      0.802832      0.802832\n",
       "29  0.006398  0.997787  0.997787  1.532067      0.807434      0.807434\n",
       "30  0.025808  0.992475  0.992475  1.560571      0.793982      0.793982\n",
       "31  0.020694  0.994688  0.994688  1.598157      0.792920      0.792920\n",
       "32  0.022988  0.993626  0.993626  1.690555      0.793628      0.793628"
      ]
     },
     "execution_count": 93,
     "metadata": {},
     "output_type": "execute_result"
    }
   ],
   "source": [
    "results = pd.DataFrame(history.history)\n",
    "results"
   ]
  },
  {
   "cell_type": "markdown",
   "metadata": {},
   "source": [
    "Note:\n",
    "- Blue represents Validation Set\n",
    "- Orange represents Train Set\n",
    "\n",
    "and\n",
    "\n",
    "refer to understand why Micro F1 and Accuracy are same for multi class problems: https://stackoverflow.com/questions/37358496/is-f1-micro-the-same-as-accuracy#:~:text=Micoaverage%20precision%2C%20recall%2C%20f1%20and,TP%2F(TP%2BFN).\n"
   ]
  },
  {
   "attachments": {
    "Screenshot%202022-05-29%20171709%20mod1%20loss.png": {
     "image/png": "[encoded data removed]"
    }
   },
   "cell_type": "markdown",
   "metadata": {},
   "source": [
    "![Screenshot%202022-05-29%20171709%20mod1%20loss.png](attachment:Screenshot%202022-05-29%20171709%20mod1%20loss.png)"
   ]
  },
  {
   "attachments": {
    "Screenshot%202022-05-29%20171613%20mod1%20acc.png": {
     "image/png": "[encoded data removed]"
    }
   },
   "cell_type": "markdown",
   "metadata": {},
   "source": [
    "![Screenshot%202022-05-29%20171613%20mod1%20acc.png](attachment:Screenshot%202022-05-29%20171613%20mod1%20acc.png)"
   ]
  },
  {
   "attachments": {
    "Screenshot%202022-05-29%20171638%20mod1%20f1.png": {
     "image/png": "[encoded data removed]"
    }
   },
   "cell_type": "markdown",
   "metadata": {},
   "source": [
    "![Screenshot%202022-05-29%20171638%20mod1%20f1.png](attachment:Screenshot%202022-05-29%20171638%20mod1%20f1.png)"
   ]
  },
  {
   "cell_type": "markdown",
   "metadata": {},
   "source": [
    "Observations:\n",
    "1. Highest Validation Accuracy and Micro F1 are achieved at 30th epoch yielding a value of 0.8074 implying that 80.74% of the points being correctly classified.\n",
    "2. Validation Loss is lowest at 4th epoch with a value of 0.98"
   ]
  },
  {
   "cell_type": "markdown",
   "metadata": {},
   "source": [
    "### Checking Performance on Test Data"
   ]
  },
  {
   "cell_type": "code",
   "execution_count": 94,
   "metadata": {},
   "outputs": [],
   "source": [
    "#load model with best weights\n",
    "best_model = keras.models.load_model('checkpoints_model_1' + '/weights-30-0.8074.hdf5')"
   ]
  },
  {
   "cell_type": "code",
   "execution_count": 96,
   "metadata": {},
   "outputs": [
    {
     "name": "stdout",
     "output_type": "stream",
     "text": [
      "148/148 [==============================] - 2s 11ms/step - loss: 1.4710 - accuracy: 0.8135 - f1_score: 0.8135\n",
      "Loss: 1.4710383415222168 \n",
      "Accuracy: 0.8134692907333374 \n",
      "Micro F1: 0.8134693503379822\n"
     ]
    }
   ],
   "source": [
    "#checking Loss, Accuracy and Micro F1Score on Test\n",
    "results = best_model.evaluate(X_test_padded,y_test)\n",
    "print('Loss:',results[0], '\\nAccuracy:',results[1], '\\nMicro F1:',results[2])"
   ]
  },
  {
   "cell_type": "code",
   "execution_count": null,
   "metadata": {},
   "outputs": [],
   "source": []
  },
  {
   "cell_type": "markdown",
   "metadata": {},
   "source": [
    "# Approach - 2"
   ]
  },
  {
   "cell_type": "markdown",
   "metadata": {},
   "source": [
    "# Converting text to sequences (char level) using Keras Tokenizer"
   ]
  },
  {
   "cell_type": "code",
   "execution_count": 16,
   "metadata": {},
   "outputs": [],
   "source": [
    "# refer for char embedding - https://towardsdatascience.com/character-level-cnn-with-keras-50391c3adf33\n",
    "tok = keras.preprocessing.text.Tokenizer(filters='!\"#$%&()*+,-./:;<=>?@[\\\\]^`{|}~\\t\\n', char_level=True)\n",
    "tok.fit_on_texts(X_train)"
   ]
  },
  {
   "cell_type": "code",
   "execution_count": 17,
   "metadata": {
    "scrolled": true
   },
   "outputs": [
    {
     "data": {
      "text/plain": [
       "{' ': 1,\n",
       " 'e': 2,\n",
       " 't': 3,\n",
       " 'a': 4,\n",
       " 'o': 5,\n",
       " 'n': 6,\n",
       " 'i': 7,\n",
       " 's': 8,\n",
       " 'r': 9,\n",
       " 'h': 10,\n",
       " 'l': 11,\n",
       " 'd': 12,\n",
       " 'c': 13,\n",
       " 'u': 14,\n",
       " 'm': 15,\n",
       " 'p': 16,\n",
       " 'g': 17,\n",
       " 'y': 18,\n",
       " 'w': 19,\n",
       " 'f': 20,\n",
       " 'b': 21,\n",
       " 'v': 22,\n",
       " 'k': 23,\n",
       " 'x': 24,\n",
       " 'j': 25,\n",
       " 'q': 26,\n",
       " 'z': 27,\n",
       " '_': 28}"
      ]
     },
     "execution_count": 17,
     "metadata": {},
     "output_type": "execute_result"
    }
   ],
   "source": [
    "#tok word_index isn't in the order we require so we change it's order to alphabetical\n",
    "tok.word_index"
   ]
  },
  {
   "cell_type": "code",
   "execution_count": 18,
   "metadata": {},
   "outputs": [],
   "source": [
    "atoz_ = 'abcdefghijklmnopqrstuvwxyz_'\n",
    "char_index = {}\n",
    "for i,j in enumerate(atoz_):\n",
    "    char_index[j] = i\n",
    "\n",
    "tok.word_index = char_index.copy()"
   ]
  },
  {
   "cell_type": "code",
   "execution_count": 19,
   "metadata": {
    "scrolled": true
   },
   "outputs": [
    {
     "data": {
      "text/plain": [
       "{'a': 0,\n",
       " 'b': 1,\n",
       " 'c': 2,\n",
       " 'd': 3,\n",
       " 'e': 4,\n",
       " 'f': 5,\n",
       " 'g': 6,\n",
       " 'h': 7,\n",
       " 'i': 8,\n",
       " 'j': 9,\n",
       " 'k': 10,\n",
       " 'l': 11,\n",
       " 'm': 12,\n",
       " 'n': 13,\n",
       " 'o': 14,\n",
       " 'p': 15,\n",
       " 'q': 16,\n",
       " 'r': 17,\n",
       " 's': 18,\n",
       " 't': 19,\n",
       " 'u': 20,\n",
       " 'v': 21,\n",
       " 'w': 22,\n",
       " 'x': 23,\n",
       " 'y': 24,\n",
       " 'z': 25,\n",
       " '_': 26}"
      ]
     },
     "execution_count": 19,
     "metadata": {},
     "output_type": "execute_result"
    }
   ],
   "source": [
    "tok.word_index"
   ]
  },
  {
   "cell_type": "code",
   "execution_count": 103,
   "metadata": {},
   "outputs": [],
   "source": [
    "X_train_char_seq = tok.texts_to_sequences(X_train)\n",
    "X_test_char_seq = tok.texts_to_sequences(X_test)"
   ]
  },
  {
   "cell_type": "code",
   "execution_count": 105,
   "metadata": {},
   "outputs": [
    {
     "name": "stdout",
     "output_type": "stream",
     "text": [
      "article ar 972\n",
      "[0, 17, 19, 8, 2, 11, 4, 0, 17, 19] 823\n"
     ]
    }
   ],
   "source": [
    "#check results \n",
    "#note the length comes different because we haven't included 'space' char in our word_index\n",
    "print(X_train[0][:10], len(X_train[0]))\n",
    "print(X_train_char_seq[0][:10], len(X_train_char_seq[0]))"
   ]
  },
  {
   "cell_type": "code",
   "execution_count": 106,
   "metadata": {},
   "outputs": [
    {
     "name": "stdout",
     "output_type": "stream",
     "text": [
      "article st 717\n",
      "[0, 17, 19, 8, 2, 11, 4, 18, 19, 20] 595\n"
     ]
    }
   ],
   "source": [
    "print(X_test[0][:10], len(X_test[0]))\n",
    "print(X_test_char_seq[0][:10], len(X_test_char_seq[0]))"
   ]
  },
  {
   "cell_type": "markdown",
   "metadata": {},
   "source": [
    "# Analysis of Char Sequence length to determine best value for 'maxlen' parameter"
   ]
  },
  {
   "cell_type": "code",
   "execution_count": 107,
   "metadata": {},
   "outputs": [
    {
     "data": {
      "text/plain": [
       "count    14121.000000\n",
       "mean       968.617662\n",
       "std       1895.820712\n",
       "min          7.000000\n",
       "25%        326.000000\n",
       "50%        567.000000\n",
       "75%        996.000000\n",
       "max      40521.000000\n",
       "dtype: float64"
      ]
     },
     "execution_count": 107,
     "metadata": {},
     "output_type": "execute_result"
    }
   ],
   "source": [
    "char_seq_sizes = pd.Series(list(map(lambda x: len(x), X_train_char_seq)))\n",
    "char_seq_sizes.describe()"
   ]
  },
  {
   "cell_type": "markdown",
   "metadata": {},
   "source": [
    "Observations:\n",
    "1. 75% of character sequence sizes are less than 996 which clearly means max(seq_size) which is 40521 is an outlier, we explore percentiles a little further."
   ]
  },
  {
   "cell_type": "code",
   "execution_count": 115,
   "metadata": {},
   "outputs": [
    {
     "data": {
      "image/png": "[encoded data removed]",
      "text/plain": [
       "<Figure size 1080x576 with 1 Axes>"
      ]
     },
     "metadata": {
      "needs_background": "light"
     },
     "output_type": "display_data"
    }
   ],
   "source": [
    "import matplotlib.pyplot as plt\n",
    "import seaborn as sns \n",
    "\n",
    "plt.figure(figsize=(15,8))\n",
    "\n",
    "plt.hist(char_seq_sizes, bins=30)\n",
    "\n",
    "plt.xticks(np.arange(0,40600,2500)) #use the max value\n",
    "\n",
    "plt.xlabel('Char Sequence Size')\n",
    "plt.ylabel('Count')\n",
    "plt.title('Char Sequence Size Distribution')\n",
    "\n",
    "plt.grid()\n",
    "plt.show()"
   ]
  },
  {
   "cell_type": "code",
   "execution_count": 109,
   "metadata": {},
   "outputs": [
    {
     "data": {
      "text/html": [
       "<div>\n",
       "<style scoped>\n",
       "    .dataframe tbody tr th:only-of-type {\n",
       "        vertical-align: middle;\n",
       "    }\n",
       "\n",
       "    .dataframe tbody tr th {\n",
       "        vertical-align: top;\n",
       "    }\n",
       "\n",
       "    .dataframe thead th {\n",
       "        text-align: right;\n",
       "    }\n",
       "</style>\n",
       "<table border=\"1\" class=\"dataframe\">\n",
       "  <thead>\n",
       "    <tr style=\"text-align: right;\">\n",
       "      <th></th>\n",
       "      <th>Percentiles</th>\n",
       "      <th>Percentile Values</th>\n",
       "    </tr>\n",
       "  </thead>\n",
       "  <tbody>\n",
       "    <tr>\n",
       "      <th>0</th>\n",
       "      <td>25</td>\n",
       "      <td>326.0</td>\n",
       "    </tr>\n",
       "    <tr>\n",
       "      <th>1</th>\n",
       "      <td>50</td>\n",
       "      <td>567.0</td>\n",
       "    </tr>\n",
       "    <tr>\n",
       "      <th>2</th>\n",
       "      <td>75</td>\n",
       "      <td>996.0</td>\n",
       "    </tr>\n",
       "    <tr>\n",
       "      <th>3</th>\n",
       "      <td>80</td>\n",
       "      <td>1161.0</td>\n",
       "    </tr>\n",
       "    <tr>\n",
       "      <th>4</th>\n",
       "      <td>85</td>\n",
       "      <td>1395.0</td>\n",
       "    </tr>\n",
       "    <tr>\n",
       "      <th>5</th>\n",
       "      <td>90</td>\n",
       "      <td>1777.0</td>\n",
       "    </tr>\n",
       "    <tr>\n",
       "      <th>6</th>\n",
       "      <td>95</td>\n",
       "      <td>2738.0</td>\n",
       "    </tr>\n",
       "    <tr>\n",
       "      <th>7</th>\n",
       "      <td>96</td>\n",
       "      <td>3110.4</td>\n",
       "    </tr>\n",
       "    <tr>\n",
       "      <th>8</th>\n",
       "      <td>97</td>\n",
       "      <td>3618.4</td>\n",
       "    </tr>\n",
       "    <tr>\n",
       "      <th>9</th>\n",
       "      <td>98</td>\n",
       "      <td>4706.2</td>\n",
       "    </tr>\n",
       "    <tr>\n",
       "      <th>10</th>\n",
       "      <td>99</td>\n",
       "      <td>7163.4</td>\n",
       "    </tr>\n",
       "  </tbody>\n",
       "</table>\n",
       "</div>"
      ],
      "text/plain": [
       "    Percentiles  Percentile Values\n",
       "0            25              326.0\n",
       "1            50              567.0\n",
       "2            75              996.0\n",
       "3            80             1161.0\n",
       "4            85             1395.0\n",
       "5            90             1777.0\n",
       "6            95             2738.0\n",
       "7            96             3110.4\n",
       "8            97             3618.4\n",
       "9            98             4706.2\n",
       "10           99             7163.4"
      ]
     },
     "execution_count": 109,
     "metadata": {},
     "output_type": "execute_result"
    }
   ],
   "source": [
    "char_seq_size_analysis = pd.DataFrame({'Percentiles': [25,50,75,80, 85,90,95,96,97,98,99], \n",
    "                              'Percentile Values': np.percentile(char_seq_sizes, [25,50,75,80, 85,90,95,96,97,98,99])})\n",
    "char_seq_size_analysis"
   ]
  },
  {
   "cell_type": "markdown",
   "metadata": {},
   "source": [
    "Observations:\n",
    "1. Clearly, 95%(~13415) of sequences in train are of size <=2738\n",
    "\n",
    "Conclusion: We use 95th percentile value as our maxlen"
   ]
  },
  {
   "cell_type": "code",
   "execution_count": 117,
   "metadata": {},
   "outputs": [],
   "source": [
    "X_train_char_seq_padded = keras.preprocessing.sequence.pad_sequences(X_train_char_seq, maxlen=2738)\n",
    "X_test_char_seq_padded = keras.preprocessing.sequence.pad_sequences(X_test_char_seq, maxlen=2738)"
   ]
  },
  {
   "cell_type": "code",
   "execution_count": 118,
   "metadata": {},
   "outputs": [
    {
     "name": "stdout",
     "output_type": "stream",
     "text": [
      "(14121, 2738) (4707, 2738)\n"
     ]
    }
   ],
   "source": [
    "print(X_train_char_seq_padded.shape, X_test_char_seq_padded.shape)"
   ]
  },
  {
   "cell_type": "code",
   "execution_count": 119,
   "metadata": {},
   "outputs": [],
   "source": [
    "np.save('saved/X_train_char_seq_padded.npy',X_train_char_seq_padded)\n",
    "np.save('saved/X_test_char_seq_padded.npy', X_test_char_seq_padded)"
   ]
  },
  {
   "cell_type": "markdown",
   "metadata": {},
   "source": [
    "### Model-2 : Using 1D convolutions with character embedding"
   ]
  },
  {
   "cell_type": "markdown",
   "metadata": {
    "colab_type": "text",
    "id": "2Djg4YVA3oQx"
   },
   "source": [
    "<pre>\n",
    "<pre><img src=\"https://i.ytimg.com/vi/CNY8VjJt-iQ/maxresdefault.jpg\" width=\"70%\">\n",
    "Here are the some papers based on Char-CNN\n",
    " 1. Xiang Zhang, Junbo Zhao, Yann LeCun. <a href=\"http://arxiv.org/abs/1509.01626\">Character-level Convolutional Networks for Text Classification</a>.NIPS 2015\n",
    " 2. Yoon Kim, Yacine Jernite, David Sontag, Alexander M. Rush. <a href=\"https://arxiv.org/abs/1508.06615\">Character-Aware Neural Language Models</a>. AAAI 2016\n",
    " 3. Shaojie Bai, J. Zico Kolter, Vladlen Koltun. <a href=\"https://arxiv.org/pdf/1803.01271.pdf\">An Empirical Evaluation of Generic Convolutional and Recurrent Networks for Sequence Modeling</a>\n",
    " 4. Use the pratrained char embeddings <a href='https://github.com/minimaxir/char-embeddings/blob/master/glove.840B.300d-char.txt'>https://github.com/minimaxir/char-embeddings/blob/master/glove.840B.300d-char.txt</a>\n",
    "</pre>"
   ]
  },
  {
   "cell_type": "markdown",
   "metadata": {},
   "source": [
    "# Create Char Embedding Matrix using Glove "
   ]
  },
  {
   "cell_type": "code",
   "execution_count": 20,
   "metadata": {},
   "outputs": [],
   "source": [
    "char_dict = {}\n",
    "char_file = open(\"glove_char.txt\")\n",
    "for line in char_file:\n",
    "    line = line.split()\n",
    "    \n",
    "    #the 0th element in each line is the character, rest is the char_vector\n",
    "    key = line[0]\n",
    "    value = np.array([float(x) for x in line[1:]])\n",
    "    \n",
    "    #add key value pairs\n",
    "    char_dict[key] = value"
   ]
  },
  {
   "cell_type": "code",
   "execution_count": 21,
   "metadata": {},
   "outputs": [],
   "source": [
    "char_emb_weights = np.zeros((len(char_index.keys()), 300))\n",
    "for i, j in enumerate(list(char_index.keys())):\n",
    "    char_vec = char_dict.get(j)\n",
    "    char_emb_weights[i] = char_vec"
   ]
  },
  {
   "cell_type": "code",
   "execution_count": 129,
   "metadata": {},
   "outputs": [
    {
     "name": "stdout",
     "output_type": "stream",
     "text": [
      "(27, 300)\n",
      "[[ 0.239511 -0.295339  0.120109 ...  0.182586 -0.071808 -0.127836]\n",
      " [ 0.235942 -0.28797   0.117332 ...  0.164853 -0.088554 -0.120673]\n",
      " [ 0.238415 -0.301016  0.128149 ...  0.165534 -0.066753 -0.115556]\n",
      " [ 0.240929 -0.300166  0.124712 ...  0.163956 -0.070336 -0.130445]\n",
      " [ 0.238061 -0.291508  0.115194 ...  0.159954 -0.073778 -0.124827]]\n"
     ]
    }
   ],
   "source": [
    "print(char_emb_weights.shape)\n",
    "print(char_emb_weights[:5])"
   ]
  },
  {
   "cell_type": "markdown",
   "metadata": {},
   "source": [
    "# Model Building"
   ]
  },
  {
   "cell_type": "code",
   "execution_count": 138,
   "metadata": {},
   "outputs": [],
   "source": [
    "callbacks_2 = [checkpoint_cb_dict[2], earlystop_callback, tensorboard_cb_dict[2]]"
   ]
  },
  {
   "cell_type": "markdown",
   "metadata": {},
   "source": [
    "### Creating Sequential Model"
   ]
  },
  {
   "cell_type": "code",
   "execution_count": 22,
   "metadata": {},
   "outputs": [],
   "source": [
    "from tensorflow.keras.models import Sequential"
   ]
  },
  {
   "cell_type": "code",
   "execution_count": 23,
   "metadata": {},
   "outputs": [
    {
     "name": "stdout",
     "output_type": "stream",
     "text": [
      "Model: \"sequential\"\n",
      "_________________________________________________________________\n",
      " Layer (type)                Output Shape              Param #   \n",
      "=================================================================\n",
      " embedding_2 (Embedding)     (None, 2738, 300)         8100      \n",
      "                                                                 \n",
      " conv1d_14 (Conv1D)          (None, 1369, 16)          14416     \n",
      "                                                                 \n",
      " conv1d_15 (Conv1D)          (None, 685, 16)           1296      \n",
      "                                                                 \n",
      " max_pooling1d_4 (MaxPooling  (None, 342, 16)          0         \n",
      " 1D)                                                             \n",
      "                                                                 \n",
      " conv1d_16 (Conv1D)          (None, 171, 16)           528       \n",
      "                                                                 \n",
      " conv1d_17 (Conv1D)          (None, 86, 16)            1040      \n",
      "                                                                 \n",
      " max_pooling1d_5 (MaxPooling  (None, 28, 16)           0         \n",
      " 1D)                                                             \n",
      "                                                                 \n",
      " flatten_2 (Flatten)         (None, 448)               0         \n",
      "                                                                 \n",
      " dropout_2 (Dropout)         (None, 448)               0         \n",
      "                                                                 \n",
      " dense_4 (Dense)             (None, 64)                28736     \n",
      "                                                                 \n",
      " output_layer (Dense)        (None, 20)                1300      \n",
      "                                                                 \n",
      "=================================================================\n",
      "Total params: 55,416\n",
      "Trainable params: 55,416\n",
      "Non-trainable params: 0\n",
      "_________________________________________________________________\n",
      "None\n"
     ]
    }
   ],
   "source": [
    "set_seed(42)\n",
    "seed(42)\n",
    "\n",
    "model_2 = Sequential([\n",
    "    Embedding(27, 300, weights = [char_emb_weights], input_length = 2738, trainable=True),\n",
    "    \n",
    "    Conv1D(filters = 16,kernel_size = 3, strides = 2, padding='same', activation='relu'),\n",
    "    Conv1D(filters = 16,kernel_size = 5, strides = 2, padding='same', activation='relu'),\n",
    "    \n",
    "    MaxPooling1D(pool_size=2, strides=2, padding='valid'),\n",
    "    \n",
    "    Conv1D(filters = 16,kernel_size = 2, strides = 2, padding='same', activation='relu'),\n",
    "    Conv1D(filters = 16,kernel_size = 4, strides = 2, padding='same', activation='relu'),\n",
    "    \n",
    "    MaxPooling1D(pool_size=3, strides=3, padding='valid'),\n",
    "    \n",
    "    Flatten(),\n",
    "    \n",
    "    Dropout(0.2),\n",
    "    \n",
    "    Dense(64, activation='relu',kernel_initializer= keras.initializers.HeUniform()),\n",
    "    \n",
    "    Dense(20, activation='softmax', name='output_layer')\n",
    "])\n",
    "    \n",
    "print(model_2.summary())"
   ]
  },
  {
   "cell_type": "code",
   "execution_count": 24,
   "metadata": {},
   "outputs": [
    {
     "data": {
      "image/png": "[encoded data removed]",
      "text/plain": [
       "<IPython.core.display.Image object>"
      ]
     },
     "execution_count": 24,
     "metadata": {},
     "output_type": "execute_result"
    }
   ],
   "source": [
    "dot_img_file_2 = 'images/model_2.png'\n",
    "plot_model(model_2, to_file=dot_img_file_2, rankdir = 'TB', show_shapes=True)"
   ]
  },
  {
   "cell_type": "markdown",
   "metadata": {},
   "source": [
    "### Training the Model"
   ]
  },
  {
   "cell_type": "code",
   "execution_count": 143,
   "metadata": {
    "scrolled": true
   },
   "outputs": [
    {
     "name": "stdout",
     "output_type": "stream",
     "text": [
      "Epoch 1/100\n",
      "113/113 [==============================] - 35s 301ms/step - loss: 2.9949 - accuracy: 0.0429 - f1_score: 0.0429 - val_loss: 2.9740 - val_accuracy: 0.0471 - val_f1_score: 0.0471\n",
      "Epoch 2/100\n",
      "113/113 [==============================] - 34s 300ms/step - loss: 2.9506 - accuracy: 0.0717 - f1_score: 0.0717 - val_loss: 2.9396 - val_accuracy: 0.0864 - val_f1_score: 0.0864\n",
      "Epoch 3/100\n",
      "113/113 [==============================] - 34s 297ms/step - loss: 2.9265 - accuracy: 0.0853 - f1_score: 0.0853 - val_loss: 2.9261 - val_accuracy: 0.0896 - val_f1_score: 0.0896\n",
      "Epoch 4/100\n",
      "113/113 [==============================] - 34s 304ms/step - loss: 2.9080 - accuracy: 0.0914 - f1_score: 0.0914 - val_loss: 2.9058 - val_accuracy: 0.0857 - val_f1_score: 0.0857\n",
      "Epoch 5/100\n",
      "113/113 [==============================] - 34s 302ms/step - loss: 2.8716 - accuracy: 0.0999 - f1_score: 0.0999 - val_loss: 2.8812 - val_accuracy: 0.1005 - val_f1_score: 0.1005\n",
      "Epoch 6/100\n",
      "113/113 [==============================] - 34s 297ms/step - loss: 2.8200 - accuracy: 0.1160 - f1_score: 0.1160 - val_loss: 2.8356 - val_accuracy: 0.0956 - val_f1_score: 0.0956\n",
      "Epoch 7/100\n",
      "113/113 [==============================] - 33s 292ms/step - loss: 2.7731 - accuracy: 0.1310 - f1_score: 0.1310 - val_loss: 2.8347 - val_accuracy: 0.1030 - val_f1_score: 0.1030\n",
      "Epoch 8/100\n",
      "113/113 [==============================] - 33s 293ms/step - loss: 2.7421 - accuracy: 0.1375 - f1_score: 0.1375 - val_loss: 2.8571 - val_accuracy: 0.1041 - val_f1_score: 0.1041\n",
      "Epoch 9/100\n",
      "113/113 [==============================] - 34s 299ms/step - loss: 2.7099 - accuracy: 0.1439 - f1_score: 0.1439 - val_loss: 2.8278 - val_accuracy: 0.1023 - val_f1_score: 0.1023\n",
      "Epoch 10/100\n",
      "113/113 [==============================] - 33s 294ms/step - loss: 2.6851 - accuracy: 0.1548 - f1_score: 0.1548 - val_loss: 2.8002 - val_accuracy: 0.1126 - val_f1_score: 0.1126\n",
      "Epoch 11/100\n",
      "113/113 [==============================] - 33s 292ms/step - loss: 2.6551 - accuracy: 0.1638 - f1_score: 0.1638 - val_loss: 2.8289 - val_accuracy: 0.1080 - val_f1_score: 0.1080\n",
      "Epoch 12/100\n",
      "113/113 [==============================] - 32s 288ms/step - loss: 2.6297 - accuracy: 0.1714 - f1_score: 0.1714 - val_loss: 2.8220 - val_accuracy: 0.1062 - val_f1_score: 0.1062\n",
      "Epoch 13/100\n",
      "113/113 [==============================] - 33s 292ms/step - loss: 2.6037 - accuracy: 0.1810 - f1_score: 0.1810 - val_loss: 2.8312 - val_accuracy: 0.1140 - val_f1_score: 0.1140\n",
      "Epoch 14/100\n",
      "113/113 [==============================] - 33s 289ms/step - loss: 2.5916 - accuracy: 0.1814 - f1_score: 0.1814 - val_loss: 2.8536 - val_accuracy: 0.1083 - val_f1_score: 0.1083\n",
      "Epoch 15/100\n",
      "113/113 [==============================] - 33s 294ms/step - loss: 2.5594 - accuracy: 0.1892 - f1_score: 0.1892 - val_loss: 2.8550 - val_accuracy: 0.1179 - val_f1_score: 0.1179\n",
      "Epoch 16/100\n",
      "113/113 [==============================] - 33s 294ms/step - loss: 2.5397 - accuracy: 0.2003 - f1_score: 0.2003 - val_loss: 2.8721 - val_accuracy: 0.1119 - val_f1_score: 0.1119\n",
      "Epoch 17/100\n",
      "113/113 [==============================] - 34s 297ms/step - loss: 2.5126 - accuracy: 0.2106 - f1_score: 0.2106 - val_loss: 2.8863 - val_accuracy: 0.1129 - val_f1_score: 0.1129\n",
      "Epoch 18/100\n",
      "113/113 [==============================] - ETA: 0s - loss: 2.4953 - accuracy: 0.2119 - f1_score: 0.2119Restoring model weights from the end of the best epoch: 15.\n",
      "113/113 [==============================] - 33s 295ms/step - loss: 2.4953 - accuracy: 0.2119 - f1_score: 0.2119 - val_loss: 2.8947 - val_accuracy: 0.1065 - val_f1_score: 0.1065\n",
      "Epoch 00018: early stopping\n"
     ]
    }
   ],
   "source": [
    "model_2.compile(optimizer='Adam',loss='categorical_crossentropy',metrics=['accuracy', F1Score(average='micro', num_classes=20)])\n",
    "\n",
    "#Using 20% of train as validation data\n",
    "history_2 = model_2.fit(X_train_char_seq_padded, y_train, epochs=100, validation_split = 0.2, batch_size=100, class_weight =class_w_dict, callbacks = callbacks_2) "
   ]
  },
  {
   "cell_type": "code",
   "execution_count": 144,
   "metadata": {
    "scrolled": true
   },
   "outputs": [
    {
     "data": {
      "text/html": [
       "<div>\n",
       "<style scoped>\n",
       "    .dataframe tbody tr th:only-of-type {\n",
       "        vertical-align: middle;\n",
       "    }\n",
       "\n",
       "    .dataframe tbody tr th {\n",
       "        vertical-align: top;\n",
       "    }\n",
       "\n",
       "    .dataframe thead th {\n",
       "        text-align: right;\n",
       "    }\n",
       "</style>\n",
       "<table border=\"1\" class=\"dataframe\">\n",
       "  <thead>\n",
       "    <tr style=\"text-align: right;\">\n",
       "      <th></th>\n",
       "      <th>loss</th>\n",
       "      <th>accuracy</th>\n",
       "      <th>f1_score</th>\n",
       "      <th>val_loss</th>\n",
       "      <th>val_accuracy</th>\n",
       "      <th>val_f1_score</th>\n",
       "    </tr>\n",
       "  </thead>\n",
       "  <tbody>\n",
       "    <tr>\n",
       "      <th>0</th>\n",
       "      <td>2.994918</td>\n",
       "      <td>0.042936</td>\n",
       "      <td>0.042936</td>\n",
       "      <td>2.973992</td>\n",
       "      <td>0.047080</td>\n",
       "      <td>0.047080</td>\n",
       "    </tr>\n",
       "    <tr>\n",
       "      <th>1</th>\n",
       "      <td>2.950555</td>\n",
       "      <td>0.071707</td>\n",
       "      <td>0.071707</td>\n",
       "      <td>2.939634</td>\n",
       "      <td>0.086372</td>\n",
       "      <td>0.086372</td>\n",
       "    </tr>\n",
       "    <tr>\n",
       "      <th>2</th>\n",
       "      <td>2.926453</td>\n",
       "      <td>0.085340</td>\n",
       "      <td>0.085340</td>\n",
       "      <td>2.926099</td>\n",
       "      <td>0.089558</td>\n",
       "      <td>0.089558</td>\n",
       "    </tr>\n",
       "    <tr>\n",
       "      <th>3</th>\n",
       "      <td>2.908008</td>\n",
       "      <td>0.091448</td>\n",
       "      <td>0.091448</td>\n",
       "      <td>2.905809</td>\n",
       "      <td>0.085664</td>\n",
       "      <td>0.085664</td>\n",
       "    </tr>\n",
       "    <tr>\n",
       "      <th>4</th>\n",
       "      <td>2.871630</td>\n",
       "      <td>0.099858</td>\n",
       "      <td>0.099858</td>\n",
       "      <td>2.881190</td>\n",
       "      <td>0.100531</td>\n",
       "      <td>0.100531</td>\n",
       "    </tr>\n",
       "    <tr>\n",
       "      <th>5</th>\n",
       "      <td>2.819984</td>\n",
       "      <td>0.115970</td>\n",
       "      <td>0.115970</td>\n",
       "      <td>2.835571</td>\n",
       "      <td>0.095575</td>\n",
       "      <td>0.095575</td>\n",
       "    </tr>\n",
       "    <tr>\n",
       "      <th>6</th>\n",
       "      <td>2.773069</td>\n",
       "      <td>0.131020</td>\n",
       "      <td>0.131020</td>\n",
       "      <td>2.834736</td>\n",
       "      <td>0.103009</td>\n",
       "      <td>0.103009</td>\n",
       "    </tr>\n",
       "    <tr>\n",
       "      <th>7</th>\n",
       "      <td>2.742074</td>\n",
       "      <td>0.137482</td>\n",
       "      <td>0.137482</td>\n",
       "      <td>2.857056</td>\n",
       "      <td>0.104071</td>\n",
       "      <td>0.104071</td>\n",
       "    </tr>\n",
       "    <tr>\n",
       "      <th>8</th>\n",
       "      <td>2.709948</td>\n",
       "      <td>0.143856</td>\n",
       "      <td>0.143856</td>\n",
       "      <td>2.827787</td>\n",
       "      <td>0.102301</td>\n",
       "      <td>0.102301</td>\n",
       "    </tr>\n",
       "    <tr>\n",
       "      <th>9</th>\n",
       "      <td>2.685096</td>\n",
       "      <td>0.154834</td>\n",
       "      <td>0.154834</td>\n",
       "      <td>2.800215</td>\n",
       "      <td>0.112566</td>\n",
       "      <td>0.112566</td>\n",
       "    </tr>\n",
       "    <tr>\n",
       "      <th>10</th>\n",
       "      <td>2.655058</td>\n",
       "      <td>0.163775</td>\n",
       "      <td>0.163775</td>\n",
       "      <td>2.828864</td>\n",
       "      <td>0.107965</td>\n",
       "      <td>0.107965</td>\n",
       "    </tr>\n",
       "    <tr>\n",
       "      <th>11</th>\n",
       "      <td>2.629712</td>\n",
       "      <td>0.171388</td>\n",
       "      <td>0.171388</td>\n",
       "      <td>2.821980</td>\n",
       "      <td>0.106195</td>\n",
       "      <td>0.106195</td>\n",
       "    </tr>\n",
       "    <tr>\n",
       "      <th>12</th>\n",
       "      <td>2.603667</td>\n",
       "      <td>0.181038</td>\n",
       "      <td>0.181038</td>\n",
       "      <td>2.831208</td>\n",
       "      <td>0.113982</td>\n",
       "      <td>0.113982</td>\n",
       "    </tr>\n",
       "    <tr>\n",
       "      <th>13</th>\n",
       "      <td>2.591586</td>\n",
       "      <td>0.181392</td>\n",
       "      <td>0.181392</td>\n",
       "      <td>2.853571</td>\n",
       "      <td>0.108319</td>\n",
       "      <td>0.108319</td>\n",
       "    </tr>\n",
       "    <tr>\n",
       "      <th>14</th>\n",
       "      <td>2.559418</td>\n",
       "      <td>0.189182</td>\n",
       "      <td>0.189182</td>\n",
       "      <td>2.855026</td>\n",
       "      <td>0.117876</td>\n",
       "      <td>0.117876</td>\n",
       "    </tr>\n",
       "    <tr>\n",
       "      <th>15</th>\n",
       "      <td>2.539692</td>\n",
       "      <td>0.200336</td>\n",
       "      <td>0.200336</td>\n",
       "      <td>2.872114</td>\n",
       "      <td>0.111858</td>\n",
       "      <td>0.111858</td>\n",
       "    </tr>\n",
       "    <tr>\n",
       "      <th>16</th>\n",
       "      <td>2.512634</td>\n",
       "      <td>0.210606</td>\n",
       "      <td>0.210606</td>\n",
       "      <td>2.886285</td>\n",
       "      <td>0.112920</td>\n",
       "      <td>0.112920</td>\n",
       "    </tr>\n",
       "    <tr>\n",
       "      <th>17</th>\n",
       "      <td>2.495252</td>\n",
       "      <td>0.211933</td>\n",
       "      <td>0.211933</td>\n",
       "      <td>2.894654</td>\n",
       "      <td>0.106549</td>\n",
       "      <td>0.106549</td>\n",
       "    </tr>\n",
       "  </tbody>\n",
       "</table>\n",
       "</div>"
      ],
      "text/plain": [
       "        loss  accuracy  f1_score  val_loss  val_accuracy  val_f1_score\n",
       "0   2.994918  0.042936  0.042936  2.973992      0.047080      0.047080\n",
       "1   2.950555  0.071707  0.071707  2.939634      0.086372      0.086372\n",
       "2   2.926453  0.085340  0.085340  2.926099      0.089558      0.089558\n",
       "3   2.908008  0.091448  0.091448  2.905809      0.085664      0.085664\n",
       "4   2.871630  0.099858  0.099858  2.881190      0.100531      0.100531\n",
       "5   2.819984  0.115970  0.115970  2.835571      0.095575      0.095575\n",
       "6   2.773069  0.131020  0.131020  2.834736      0.103009      0.103009\n",
       "7   2.742074  0.137482  0.137482  2.857056      0.104071      0.104071\n",
       "8   2.709948  0.143856  0.143856  2.827787      0.102301      0.102301\n",
       "9   2.685096  0.154834  0.154834  2.800215      0.112566      0.112566\n",
       "10  2.655058  0.163775  0.163775  2.828864      0.107965      0.107965\n",
       "11  2.629712  0.171388  0.171388  2.821980      0.106195      0.106195\n",
       "12  2.603667  0.181038  0.181038  2.831208      0.113982      0.113982\n",
       "13  2.591586  0.181392  0.181392  2.853571      0.108319      0.108319\n",
       "14  2.559418  0.189182  0.189182  2.855026      0.117876      0.117876\n",
       "15  2.539692  0.200336  0.200336  2.872114      0.111858      0.111858\n",
       "16  2.512634  0.210606  0.210606  2.886285      0.112920      0.112920\n",
       "17  2.495252  0.211933  0.211933  2.894654      0.106549      0.106549"
      ]
     },
     "execution_count": 144,
     "metadata": {},
     "output_type": "execute_result"
    }
   ],
   "source": [
    "results_2 = pd.DataFrame(history_2.history)\n",
    "results_2"
   ]
  },
  {
   "cell_type": "markdown",
   "metadata": {},
   "source": [
    "Note:\n",
    "- Blue represents Validation Set\n",
    "- Orange represents Train Set"
   ]
  },
  {
   "attachments": {
    "Screenshot%202022-05-29%20182113%20mod%202%20loss.png": {
     "image/png": "[encoded data removed]"
    }
   },
   "cell_type": "markdown",
   "metadata": {},
   "source": [
    "![Screenshot%202022-05-29%20182113%20mod%202%20loss.png](attachment:Screenshot%202022-05-29%20182113%20mod%202%20loss.png)"
   ]
  },
  {
   "attachments": {
    "Screenshot%202022-05-29%20182029%20mod2%20acc.png": {
     "image/png": "[encoded data removed]"
    }
   },
   "cell_type": "markdown",
   "metadata": {},
   "source": [
    "![Screenshot%202022-05-29%20182029%20mod2%20acc.png](attachment:Screenshot%202022-05-29%20182029%20mod2%20acc.png)"
   ]
  },
  {
   "attachments": {
    "Screenshot%202022-05-29%20182052%20mod%202%20f1.png": {
     "image/png": "[encoded data removed]"
    }
   },
   "cell_type": "markdown",
   "metadata": {},
   "source": [
    "![Screenshot%202022-05-29%20182052%20mod%202%20f1.png](attachment:Screenshot%202022-05-29%20182052%20mod%202%20f1.png)"
   ]
  },
  {
   "cell_type": "markdown",
   "metadata": {},
   "source": [
    "Observations: \n",
    "1. Highest Accuracy and Micro F1 are achieved at 15th epoch yielding a value of 0.1179 implying that only 11.79% of the points being correctly classified.\n",
    "2. Loss is lowest at 10th epoch with a value of 2.80"
   ]
  },
  {
   "cell_type": "markdown",
   "metadata": {},
   "source": [
    "### Checking Performance on Test Data"
   ]
  },
  {
   "cell_type": "code",
   "execution_count": 145,
   "metadata": {},
   "outputs": [],
   "source": [
    "#load model with best weights\n",
    "best_model_2 = keras.models.load_model('checkpoints_model_2' + '/weights-15-0.1179.hdf5')"
   ]
  },
  {
   "cell_type": "code",
   "execution_count": 147,
   "metadata": {},
   "outputs": [
    {
     "name": "stdout",
     "output_type": "stream",
     "text": [
      "148/148 [==============================] - 3s 18ms/step - loss: 2.8421 - accuracy: 0.1134 - f1_score: 0.1134\n",
      "Loss: 2.8420562744140625 \n",
      "Accuracy: 0.11344805359840393 \n",
      "Micro F1: 0.11344805359840393\n"
     ]
    }
   ],
   "source": [
    "#checking Loss, Accuracy and Micro F1Score on Test\n",
    "results_2 = best_model_2.evaluate(X_test_char_seq_padded,y_test)\n",
    "print('Loss:',results_2[0], '\\nAccuracy:',results_2[1], '\\nMicro F1:',results_2[2])"
   ]
  },
  {
   "cell_type": "code",
   "execution_count": null,
   "metadata": {},
   "outputs": [],
   "source": []
  },
  {
   "cell_type": "markdown",
   "metadata": {},
   "source": [
    "# Summary"
   ]
  },
  {
   "cell_type": "code",
   "execution_count": 149,
   "metadata": {},
   "outputs": [
    {
     "name": "stdout",
     "output_type": "stream",
     "text": [
      "+-----------+-------+----------+----------+\n",
      "| Embedding | Model | Accuracy | Micro F1 |\n",
      "+-----------+-------+----------+----------+\n",
      "|    Word   |  CNN  |   0.81   |   0.81   |\n",
      "|    Char   |  CNN  |   0.11   |   0.11   |\n",
      "+-----------+-------+----------+----------+\n"
     ]
    }
   ],
   "source": [
    "#Tabulate your results\n",
    "from prettytable import PrettyTable\n",
    "x = PrettyTable()\n",
    "x.field_names = [\"Embedding\",\"Model\", \"Accuracy\", \"Micro F1\"]\n",
    "x.add_rows(\n",
    "    [\n",
    "        [\"Word\",\"CNN\", 0.81, 0.81],\n",
    "        [\"Char\",\"CNN\", 0.11, 0.11]\n",
    "     \n",
    "    ]\n",
    ")\n",
    "\n",
    "print(x)"
   ]
  },
  {
   "cell_type": "markdown",
   "metadata": {},
   "source": [
    "Conclusion : Clearly Word Embedded CNN outperforms Char Embedded CNN by a huge margin and therefore is a better approach for this problem."
   ]
  },
  {
   "cell_type": "code",
   "execution_count": null,
   "metadata": {},
   "outputs": [],
   "source": [
    "import shutil\n",
    "import os\n",
    "# #clear logs and checkpoints before every run\n",
    "# shutil.rmtree('checkpoints_model_1')\n",
    "# shutil.rmtree('logs_model_1')\n",
    "\n",
    "# shutil.rmtree('checkpoints_model_2')\n",
    "# shutil.rmtree('logs_model_2')"
   ]
  }
 ],
 "metadata": {
  "colab": {
   "collapsed_sections": [],
   "name": "Text Classification Assignment.ipynb",
   "provenance": []
  },
  "kernelspec": {
   "display_name": "Python 3 (ipykernel)",
   "language": "python",
   "name": "python3"
  },
  "language_info": {
   "codemirror_mode": {
    "name": "ipython",
    "version": 3
   },
   "file_extension": ".py",
   "mimetype": "text/x-python",
   "name": "python",
   "nbconvert_exporter": "python",
   "pygments_lexer": "ipython3",
   "version": "3.9.6"
  }
 },
 "nbformat": 4,
 "nbformat_minor": 1
}
